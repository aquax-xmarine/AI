{
  "nbformat": 4,
  "nbformat_minor": 0,
  "metadata": {
    "colab": {
      "provenance": [],
      "include_colab_link": true
    },
    "kernelspec": {
      "name": "python3",
      "display_name": "Python 3"
    },
    "language_info": {
      "name": "python"
    }
  },
  "cells": [
    {
      "cell_type": "markdown",
      "metadata": {
        "id": "view-in-github",
        "colab_type": "text"
      },
      "source": [
        "<a href=\"https://colab.research.google.com/github/aquax-xmarine/AI/blob/main/ClassificationTask.ipynb\" target=\"_parent\"><img src=\"https://colab.research.google.com/assets/colab-badge.svg\" alt=\"Open In Colab\"/></a>"
      ]
    },
    {
      "cell_type": "markdown",
      "source": [
        "#1. Exploratory Data Analysis and Data Understanding"
      ],
      "metadata": {
        "id": "9KtR-5e6xOol"
      }
    },
    {
      "cell_type": "markdown",
      "source": [
        "#Initial Analysis\n",
        "a. When and by whom was the dataset created?\n",
        "\n",
        "Ans: The dataset 'Maternal Health Risk' was created by Marzia Ahmed and her colleagues Mostafijur Rahman, Sabira Khatun, and Mohammod Abul Kashem for their research paper 'Review and Analysis of Risk Factor of Maternal Health in Remote Area Using the Internet of Things (IoT)' on March 2020.\n",
        "\n",
        "b. How did you access the dataset?\n",
        "\n",
        "Ans: The above dataset was accessed via Kaggle.\n",
        "\n",
        "c. How does it align with the chosen UNSDG?\n",
        "ANs: The dataset 'Maternal Health Risk' is closely aligned with the UNSDG3: Good Health and Well-being as it helps to prevent maternal mortality by detecting the symptoms beforehand.\n",
        "\n",
        "d. List all the attributes (columns) present in the dataset.\n",
        "\n",
        "Ans: Age, SystolicBP, DiastolicBP, BS, BodyTemp, HeartRate, and RiskLevel are the 7 attributes present in the dataset.  \n"
      ],
      "metadata": {
        "id": "hQ1PGYKgeW1Y"
      }
    },
    {
      "cell_type": "markdown",
      "source": [
        "# Research Question\n",
        "How accurately can we predict the risk of maternal health complications using basic health indicators?"
      ],
      "metadata": {
        "id": "G_-KUifrgf6C"
      }
    },
    {
      "cell_type": "markdown",
      "source": [
        "#Data Completeness\n",
        "1. The dataset contains basic health indicators (blood pressure, heart rate, glucose level etc.) which is necessary for analysing maternal health risk.\n",
        "\n",
        "2. It provides a labeled target variable (Low, Medium, High Risk) is is suitable for supervised classificaton task.\n",
        "\n",
        "3. The dataset has above 1000 rows which is sufficient for this task.\n",
        "\n",
        "4. The dataset doesnot contain missing values making the utilization of data points effective.\n",
        "\n",
        "Limitation\n",
        "1. The dataset is found to have more than half duplicate rows whcih might reduce the model's effectiveness."
      ],
      "metadata": {
        "id": "mScNt29khMvf"
      }
    },
    {
      "cell_type": "markdown",
      "source": [
        "#Relevance\n",
        "1. The dataset contains relevant attributes necessary for analysing maternal health risk.\n",
        "2. It directly classifies maternal risk levels, aligning well with the research question.\n"
      ],
      "metadata": {
        "id": "PLQqIKJqjucn"
      }
    },
    {
      "cell_type": "markdown",
      "source": [
        "#Quality\n",
        "1. The dataset comes from a published study, validating its origins.\n",
        "2. The numericals values appears to be well-structured and measurable."
      ],
      "metadata": {
        "id": "kA7qJlBSkGLm"
      }
    },
    {
      "cell_type": "markdown",
      "source": [
        "#Exploratory Data Analysis (EDA)"
      ],
      "metadata": {
        "id": "s4o8ul0jkW6V"
      }
    },
    {
      "cell_type": "code",
      "source": [
        "# load the dataset\n",
        "import pandas as pd\n",
        "df = pd.read_csv(\"/content/drive/MyDrive/AI_Assessment/Maternal Health Risk Data Set.csv\")"
      ],
      "metadata": {
        "id": "2IZf4H_okkru"
      },
      "execution_count": null,
      "outputs": []
    },
    {
      "cell_type": "markdown",
      "source": [
        "# Data cleaning and summary statistics\n"
      ],
      "metadata": {
        "id": "gHDYSsFJl6Yd"
      }
    },
    {
      "cell_type": "code",
      "source": [
        "# display basic information\n",
        "print(\"Dataset Info: \")\n",
        "print(df.info())"
      ],
      "metadata": {
        "colab": {
          "base_uri": "https://localhost:8080/"
        },
        "id": "PrseKRJPkvrt",
        "outputId": "60915e10-8165-4946-c343-f4cd2920c2ed"
      },
      "execution_count": null,
      "outputs": [
        {
          "output_type": "stream",
          "name": "stdout",
          "text": [
            "Dataset Info: \n",
            "<class 'pandas.core.frame.DataFrame'>\n",
            "RangeIndex: 1014 entries, 0 to 1013\n",
            "Data columns (total 7 columns):\n",
            " #   Column       Non-Null Count  Dtype  \n",
            "---  ------       --------------  -----  \n",
            " 0   Age          1014 non-null   int64  \n",
            " 1   SystolicBP   1014 non-null   int64  \n",
            " 2   DiastolicBP  1014 non-null   int64  \n",
            " 3   BS           1014 non-null   float64\n",
            " 4   BodyTemp     1014 non-null   float64\n",
            " 5   HeartRate    1014 non-null   int64  \n",
            " 6   RiskLevel    1014 non-null   object \n",
            "dtypes: float64(2), int64(4), object(1)\n",
            "memory usage: 55.6+ KB\n",
            "None\n"
          ]
        }
      ]
    },
    {
      "cell_type": "code",
      "source": [
        "# Check for missing values\n",
        "print(\"Missing values: \")\n",
        "print(df.isnull().sum())"
      ],
      "metadata": {
        "colab": {
          "base_uri": "https://localhost:8080/"
        },
        "id": "rA04XlIYmKIT",
        "outputId": "8ea3bab8-56bf-44ca-c21a-607e857d06bb"
      },
      "execution_count": null,
      "outputs": [
        {
          "output_type": "stream",
          "name": "stdout",
          "text": [
            "Missing values: \n",
            "Age            0\n",
            "SystolicBP     0\n",
            "DiastolicBP    0\n",
            "BS             0\n",
            "BodyTemp       0\n",
            "HeartRate      0\n",
            "RiskLevel      0\n",
            "dtype: int64\n"
          ]
        }
      ]
    },
    {
      "cell_type": "code",
      "source": [
        "# Check for duplicate rows\n",
        "print(\"Duplicated Rows: \", df.duplicated().sum())xd\n",
        "df[df.duplicated(keep='first')]\n"
      ],
      "metadata": {
        "colab": {
          "base_uri": "https://localhost:8080/",
          "height": 441
        },
        "id": "f0ZetwWEmR9t",
        "outputId": "1baf4a93-f3c7-4c60-b3e3-3c703bbad3fc"
      },
      "execution_count": null,
      "outputs": [
        {
          "output_type": "stream",
          "name": "stdout",
          "text": [
            "Duplicated Rows:  562\n"
          ]
        },
        {
          "output_type": "execute_result",
          "data": {
            "text/plain": [
              "      Age  SystolicBP  DiastolicBP    BS  BodyTemp  HeartRate  RiskLevel\n",
              "67     19         120           80   7.0      98.0         70   mid risk\n",
              "72     19         120           80   7.0      98.0         70   mid risk\n",
              "97     19         120           80   7.0      98.0         70   mid risk\n",
              "106    50         140           90  15.0      98.0         90  high risk\n",
              "107    25         140          100   6.8      98.0         80  high risk\n",
              "...   ...         ...          ...   ...       ...        ...        ...\n",
              "1009   22         120           60  15.0      98.0         80  high risk\n",
              "1010   55         120           90  18.0      98.0         60  high risk\n",
              "1011   35          85           60  19.0      98.0         86  high risk\n",
              "1012   43         120           90  18.0      98.0         70  high risk\n",
              "1013   32         120           65   6.0     101.0         76   mid risk\n",
              "\n",
              "[562 rows x 7 columns]"
            ],
            "text/html": [
              "\n",
              "  <div id=\"df-497ad548-0d6b-48fb-bd8c-d21abf51cdc1\" class=\"colab-df-container\">\n",
              "    <div>\n",
              "<style scoped>\n",
              "    .dataframe tbody tr th:only-of-type {\n",
              "        vertical-align: middle;\n",
              "    }\n",
              "\n",
              "    .dataframe tbody tr th {\n",
              "        vertical-align: top;\n",
              "    }\n",
              "\n",
              "    .dataframe thead th {\n",
              "        text-align: right;\n",
              "    }\n",
              "</style>\n",
              "<table border=\"1\" class=\"dataframe\">\n",
              "  <thead>\n",
              "    <tr style=\"text-align: right;\">\n",
              "      <th></th>\n",
              "      <th>Age</th>\n",
              "      <th>SystolicBP</th>\n",
              "      <th>DiastolicBP</th>\n",
              "      <th>BS</th>\n",
              "      <th>BodyTemp</th>\n",
              "      <th>HeartRate</th>\n",
              "      <th>RiskLevel</th>\n",
              "    </tr>\n",
              "  </thead>\n",
              "  <tbody>\n",
              "    <tr>\n",
              "      <th>67</th>\n",
              "      <td>19</td>\n",
              "      <td>120</td>\n",
              "      <td>80</td>\n",
              "      <td>7.0</td>\n",
              "      <td>98.0</td>\n",
              "      <td>70</td>\n",
              "      <td>mid risk</td>\n",
              "    </tr>\n",
              "    <tr>\n",
              "      <th>72</th>\n",
              "      <td>19</td>\n",
              "      <td>120</td>\n",
              "      <td>80</td>\n",
              "      <td>7.0</td>\n",
              "      <td>98.0</td>\n",
              "      <td>70</td>\n",
              "      <td>mid risk</td>\n",
              "    </tr>\n",
              "    <tr>\n",
              "      <th>97</th>\n",
              "      <td>19</td>\n",
              "      <td>120</td>\n",
              "      <td>80</td>\n",
              "      <td>7.0</td>\n",
              "      <td>98.0</td>\n",
              "      <td>70</td>\n",
              "      <td>mid risk</td>\n",
              "    </tr>\n",
              "    <tr>\n",
              "      <th>106</th>\n",
              "      <td>50</td>\n",
              "      <td>140</td>\n",
              "      <td>90</td>\n",
              "      <td>15.0</td>\n",
              "      <td>98.0</td>\n",
              "      <td>90</td>\n",
              "      <td>high risk</td>\n",
              "    </tr>\n",
              "    <tr>\n",
              "      <th>107</th>\n",
              "      <td>25</td>\n",
              "      <td>140</td>\n",
              "      <td>100</td>\n",
              "      <td>6.8</td>\n",
              "      <td>98.0</td>\n",
              "      <td>80</td>\n",
              "      <td>high risk</td>\n",
              "    </tr>\n",
              "    <tr>\n",
              "      <th>...</th>\n",
              "      <td>...</td>\n",
              "      <td>...</td>\n",
              "      <td>...</td>\n",
              "      <td>...</td>\n",
              "      <td>...</td>\n",
              "      <td>...</td>\n",
              "      <td>...</td>\n",
              "    </tr>\n",
              "    <tr>\n",
              "      <th>1009</th>\n",
              "      <td>22</td>\n",
              "      <td>120</td>\n",
              "      <td>60</td>\n",
              "      <td>15.0</td>\n",
              "      <td>98.0</td>\n",
              "      <td>80</td>\n",
              "      <td>high risk</td>\n",
              "    </tr>\n",
              "    <tr>\n",
              "      <th>1010</th>\n",
              "      <td>55</td>\n",
              "      <td>120</td>\n",
              "      <td>90</td>\n",
              "      <td>18.0</td>\n",
              "      <td>98.0</td>\n",
              "      <td>60</td>\n",
              "      <td>high risk</td>\n",
              "    </tr>\n",
              "    <tr>\n",
              "      <th>1011</th>\n",
              "      <td>35</td>\n",
              "      <td>85</td>\n",
              "      <td>60</td>\n",
              "      <td>19.0</td>\n",
              "      <td>98.0</td>\n",
              "      <td>86</td>\n",
              "      <td>high risk</td>\n",
              "    </tr>\n",
              "    <tr>\n",
              "      <th>1012</th>\n",
              "      <td>43</td>\n",
              "      <td>120</td>\n",
              "      <td>90</td>\n",
              "      <td>18.0</td>\n",
              "      <td>98.0</td>\n",
              "      <td>70</td>\n",
              "      <td>high risk</td>\n",
              "    </tr>\n",
              "    <tr>\n",
              "      <th>1013</th>\n",
              "      <td>32</td>\n",
              "      <td>120</td>\n",
              "      <td>65</td>\n",
              "      <td>6.0</td>\n",
              "      <td>101.0</td>\n",
              "      <td>76</td>\n",
              "      <td>mid risk</td>\n",
              "    </tr>\n",
              "  </tbody>\n",
              "</table>\n",
              "<p>562 rows × 7 columns</p>\n",
              "</div>\n",
              "    <div class=\"colab-df-buttons\">\n",
              "\n",
              "  <div class=\"colab-df-container\">\n",
              "    <button class=\"colab-df-convert\" onclick=\"convertToInteractive('df-497ad548-0d6b-48fb-bd8c-d21abf51cdc1')\"\n",
              "            title=\"Convert this dataframe to an interactive table.\"\n",
              "            style=\"display:none;\">\n",
              "\n",
              "  <svg xmlns=\"http://www.w3.org/2000/svg\" height=\"24px\" viewBox=\"0 -960 960 960\">\n",
              "    <path d=\"M120-120v-720h720v720H120Zm60-500h600v-160H180v160Zm220 220h160v-160H400v160Zm0 220h160v-160H400v160ZM180-400h160v-160H180v160Zm440 0h160v-160H620v160ZM180-180h160v-160H180v160Zm440 0h160v-160H620v160Z\"/>\n",
              "  </svg>\n",
              "    </button>\n",
              "\n",
              "  <style>\n",
              "    .colab-df-container {\n",
              "      display:flex;\n",
              "      gap: 12px;\n",
              "    }\n",
              "\n",
              "    .colab-df-convert {\n",
              "      background-color: #E8F0FE;\n",
              "      border: none;\n",
              "      border-radius: 50%;\n",
              "      cursor: pointer;\n",
              "      display: none;\n",
              "      fill: #1967D2;\n",
              "      height: 32px;\n",
              "      padding: 0 0 0 0;\n",
              "      width: 32px;\n",
              "    }\n",
              "\n",
              "    .colab-df-convert:hover {\n",
              "      background-color: #E2EBFA;\n",
              "      box-shadow: 0px 1px 2px rgba(60, 64, 67, 0.3), 0px 1px 3px 1px rgba(60, 64, 67, 0.15);\n",
              "      fill: #174EA6;\n",
              "    }\n",
              "\n",
              "    .colab-df-buttons div {\n",
              "      margin-bottom: 4px;\n",
              "    }\n",
              "\n",
              "    [theme=dark] .colab-df-convert {\n",
              "      background-color: #3B4455;\n",
              "      fill: #D2E3FC;\n",
              "    }\n",
              "\n",
              "    [theme=dark] .colab-df-convert:hover {\n",
              "      background-color: #434B5C;\n",
              "      box-shadow: 0px 1px 3px 1px rgba(0, 0, 0, 0.15);\n",
              "      filter: drop-shadow(0px 1px 2px rgba(0, 0, 0, 0.3));\n",
              "      fill: #FFFFFF;\n",
              "    }\n",
              "  </style>\n",
              "\n",
              "    <script>\n",
              "      const buttonEl =\n",
              "        document.querySelector('#df-497ad548-0d6b-48fb-bd8c-d21abf51cdc1 button.colab-df-convert');\n",
              "      buttonEl.style.display =\n",
              "        google.colab.kernel.accessAllowed ? 'block' : 'none';\n",
              "\n",
              "      async function convertToInteractive(key) {\n",
              "        const element = document.querySelector('#df-497ad548-0d6b-48fb-bd8c-d21abf51cdc1');\n",
              "        const dataTable =\n",
              "          await google.colab.kernel.invokeFunction('convertToInteractive',\n",
              "                                                    [key], {});\n",
              "        if (!dataTable) return;\n",
              "\n",
              "        const docLinkHtml = 'Like what you see? Visit the ' +\n",
              "          '<a target=\"_blank\" href=https://colab.research.google.com/notebooks/data_table.ipynb>data table notebook</a>'\n",
              "          + ' to learn more about interactive tables.';\n",
              "        element.innerHTML = '';\n",
              "        dataTable['output_type'] = 'display_data';\n",
              "        await google.colab.output.renderOutput(dataTable, element);\n",
              "        const docLink = document.createElement('div');\n",
              "        docLink.innerHTML = docLinkHtml;\n",
              "        element.appendChild(docLink);\n",
              "      }\n",
              "    </script>\n",
              "  </div>\n",
              "\n",
              "\n",
              "<div id=\"df-e0d978e6-1645-4946-86e5-13832cd746cd\">\n",
              "  <button class=\"colab-df-quickchart\" onclick=\"quickchart('df-e0d978e6-1645-4946-86e5-13832cd746cd')\"\n",
              "            title=\"Suggest charts\"\n",
              "            style=\"display:none;\">\n",
              "\n",
              "<svg xmlns=\"http://www.w3.org/2000/svg\" height=\"24px\"viewBox=\"0 0 24 24\"\n",
              "     width=\"24px\">\n",
              "    <g>\n",
              "        <path d=\"M19 3H5c-1.1 0-2 .9-2 2v14c0 1.1.9 2 2 2h14c1.1 0 2-.9 2-2V5c0-1.1-.9-2-2-2zM9 17H7v-7h2v7zm4 0h-2V7h2v10zm4 0h-2v-4h2v4z\"/>\n",
              "    </g>\n",
              "</svg>\n",
              "  </button>\n",
              "\n",
              "<style>\n",
              "  .colab-df-quickchart {\n",
              "      --bg-color: #E8F0FE;\n",
              "      --fill-color: #1967D2;\n",
              "      --hover-bg-color: #E2EBFA;\n",
              "      --hover-fill-color: #174EA6;\n",
              "      --disabled-fill-color: #AAA;\n",
              "      --disabled-bg-color: #DDD;\n",
              "  }\n",
              "\n",
              "  [theme=dark] .colab-df-quickchart {\n",
              "      --bg-color: #3B4455;\n",
              "      --fill-color: #D2E3FC;\n",
              "      --hover-bg-color: #434B5C;\n",
              "      --hover-fill-color: #FFFFFF;\n",
              "      --disabled-bg-color: #3B4455;\n",
              "      --disabled-fill-color: #666;\n",
              "  }\n",
              "\n",
              "  .colab-df-quickchart {\n",
              "    background-color: var(--bg-color);\n",
              "    border: none;\n",
              "    border-radius: 50%;\n",
              "    cursor: pointer;\n",
              "    display: none;\n",
              "    fill: var(--fill-color);\n",
              "    height: 32px;\n",
              "    padding: 0;\n",
              "    width: 32px;\n",
              "  }\n",
              "\n",
              "  .colab-df-quickchart:hover {\n",
              "    background-color: var(--hover-bg-color);\n",
              "    box-shadow: 0 1px 2px rgba(60, 64, 67, 0.3), 0 1px 3px 1px rgba(60, 64, 67, 0.15);\n",
              "    fill: var(--button-hover-fill-color);\n",
              "  }\n",
              "\n",
              "  .colab-df-quickchart-complete:disabled,\n",
              "  .colab-df-quickchart-complete:disabled:hover {\n",
              "    background-color: var(--disabled-bg-color);\n",
              "    fill: var(--disabled-fill-color);\n",
              "    box-shadow: none;\n",
              "  }\n",
              "\n",
              "  .colab-df-spinner {\n",
              "    border: 2px solid var(--fill-color);\n",
              "    border-color: transparent;\n",
              "    border-bottom-color: var(--fill-color);\n",
              "    animation:\n",
              "      spin 1s steps(1) infinite;\n",
              "  }\n",
              "\n",
              "  @keyframes spin {\n",
              "    0% {\n",
              "      border-color: transparent;\n",
              "      border-bottom-color: var(--fill-color);\n",
              "      border-left-color: var(--fill-color);\n",
              "    }\n",
              "    20% {\n",
              "      border-color: transparent;\n",
              "      border-left-color: var(--fill-color);\n",
              "      border-top-color: var(--fill-color);\n",
              "    }\n",
              "    30% {\n",
              "      border-color: transparent;\n",
              "      border-left-color: var(--fill-color);\n",
              "      border-top-color: var(--fill-color);\n",
              "      border-right-color: var(--fill-color);\n",
              "    }\n",
              "    40% {\n",
              "      border-color: transparent;\n",
              "      border-right-color: var(--fill-color);\n",
              "      border-top-color: var(--fill-color);\n",
              "    }\n",
              "    60% {\n",
              "      border-color: transparent;\n",
              "      border-right-color: var(--fill-color);\n",
              "    }\n",
              "    80% {\n",
              "      border-color: transparent;\n",
              "      border-right-color: var(--fill-color);\n",
              "      border-bottom-color: var(--fill-color);\n",
              "    }\n",
              "    90% {\n",
              "      border-color: transparent;\n",
              "      border-bottom-color: var(--fill-color);\n",
              "    }\n",
              "  }\n",
              "</style>\n",
              "\n",
              "  <script>\n",
              "    async function quickchart(key) {\n",
              "      const quickchartButtonEl =\n",
              "        document.querySelector('#' + key + ' button');\n",
              "      quickchartButtonEl.disabled = true;  // To prevent multiple clicks.\n",
              "      quickchartButtonEl.classList.add('colab-df-spinner');\n",
              "      try {\n",
              "        const charts = await google.colab.kernel.invokeFunction(\n",
              "            'suggestCharts', [key], {});\n",
              "      } catch (error) {\n",
              "        console.error('Error during call to suggestCharts:', error);\n",
              "      }\n",
              "      quickchartButtonEl.classList.remove('colab-df-spinner');\n",
              "      quickchartButtonEl.classList.add('colab-df-quickchart-complete');\n",
              "    }\n",
              "    (() => {\n",
              "      let quickchartButtonEl =\n",
              "        document.querySelector('#df-e0d978e6-1645-4946-86e5-13832cd746cd button');\n",
              "      quickchartButtonEl.style.display =\n",
              "        google.colab.kernel.accessAllowed ? 'block' : 'none';\n",
              "    })();\n",
              "  </script>\n",
              "</div>\n",
              "\n",
              "    </div>\n",
              "  </div>\n"
            ],
            "application/vnd.google.colaboratory.intrinsic+json": {
              "type": "dataframe",
              "summary": "{\n  \"name\": \"df[df\",\n  \"rows\": 562,\n  \"fields\": [\n    {\n      \"column\": \"Age\",\n      \"properties\": {\n        \"dtype\": \"number\",\n        \"std\": 13,\n        \"min\": 10,\n        \"max\": 63,\n        \"num_unique_values\": 42,\n        \"samples\": [\n          17,\n          22,\n          54\n        ],\n        \"semantic_type\": \"\",\n        \"description\": \"\"\n      }\n    },\n    {\n      \"column\": \"SystolicBP\",\n      \"properties\": {\n        \"dtype\": \"number\",\n        \"std\": 18,\n        \"min\": 70,\n        \"max\": 160,\n        \"num_unique_values\": 18,\n        \"samples\": [\n          120,\n          140,\n          76\n        ],\n        \"semantic_type\": \"\",\n        \"description\": \"\"\n      }\n    },\n    {\n      \"column\": \"DiastolicBP\",\n      \"properties\": {\n        \"dtype\": \"number\",\n        \"std\": 13,\n        \"min\": 49,\n        \"max\": 100,\n        \"num_unique_values\": 14,\n        \"samples\": [\n          50,\n          76,\n          80\n        ],\n        \"semantic_type\": \"\",\n        \"description\": \"\"\n      }\n    },\n    {\n      \"column\": \"BS\",\n      \"properties\": {\n        \"dtype\": \"number\",\n        \"std\": 3.597564189703253,\n        \"min\": 6.0,\n        \"max\": 19.0,\n        \"num_unique_values\": 27,\n        \"samples\": [\n          7.2,\n          6.7,\n          7.1\n        ],\n        \"semantic_type\": \"\",\n        \"description\": \"\"\n      }\n    },\n    {\n      \"column\": \"BodyTemp\",\n      \"properties\": {\n        \"dtype\": \"number\",\n        \"std\": 1.3396183881701036,\n        \"min\": 98.0,\n        \"max\": 103.0,\n        \"num_unique_values\": 7,\n        \"samples\": [\n          98.0,\n          102.0,\n          99.0\n        ],\n        \"semantic_type\": \"\",\n        \"description\": \"\"\n      }\n    },\n    {\n      \"column\": \"HeartRate\",\n      \"properties\": {\n        \"dtype\": \"number\",\n        \"std\": 8,\n        \"min\": 7,\n        \"max\": 90,\n        \"num_unique_values\": 16,\n        \"samples\": [\n          70,\n          90,\n          77\n        ],\n        \"semantic_type\": \"\",\n        \"description\": \"\"\n      }\n    },\n    {\n      \"column\": \"RiskLevel\",\n      \"properties\": {\n        \"dtype\": \"category\",\n        \"num_unique_values\": 3,\n        \"samples\": [\n          \"mid risk\",\n          \"high risk\",\n          \"low risk\"\n        ],\n        \"semantic_type\": \"\",\n        \"description\": \"\"\n      }\n    }\n  ]\n}"
            }
          },
          "metadata": {},
          "execution_count": 13
        }
      ]
    },
    {
      "cell_type": "code",
      "source": [
        "# Remove duplicates(keep only one instance of each unique row)\n",
        "df.drop_duplicates(inplace=True)\n",
        "print(\"Duplicated Rows: \", df.duplicated().sum())\n",
        "df[df.duplicated(keep='first')]"
      ],
      "metadata": {
        "colab": {
          "base_uri": "https://localhost:8080/",
          "height": 70
        },
        "id": "ohlACMFknmZf",
        "outputId": "3675b25f-48f2-4502-e664-2eba8c962f13"
      },
      "execution_count": null,
      "outputs": [
        {
          "output_type": "stream",
          "name": "stdout",
          "text": [
            "Duplicated Rows:  0\n"
          ]
        },
        {
          "output_type": "execute_result",
          "data": {
            "text/plain": [
              "Empty DataFrame\n",
              "Columns: [Age, SystolicBP, DiastolicBP, BS, BodyTemp, HeartRate, RiskLevel]\n",
              "Index: []"
            ],
            "text/html": [
              "\n",
              "  <div id=\"df-8e605274-616b-421c-9047-9622edb7c569\" class=\"colab-df-container\">\n",
              "    <div>\n",
              "<style scoped>\n",
              "    .dataframe tbody tr th:only-of-type {\n",
              "        vertical-align: middle;\n",
              "    }\n",
              "\n",
              "    .dataframe tbody tr th {\n",
              "        vertical-align: top;\n",
              "    }\n",
              "\n",
              "    .dataframe thead th {\n",
              "        text-align: right;\n",
              "    }\n",
              "</style>\n",
              "<table border=\"1\" class=\"dataframe\">\n",
              "  <thead>\n",
              "    <tr style=\"text-align: right;\">\n",
              "      <th></th>\n",
              "      <th>Age</th>\n",
              "      <th>SystolicBP</th>\n",
              "      <th>DiastolicBP</th>\n",
              "      <th>BS</th>\n",
              "      <th>BodyTemp</th>\n",
              "      <th>HeartRate</th>\n",
              "      <th>RiskLevel</th>\n",
              "    </tr>\n",
              "  </thead>\n",
              "  <tbody>\n",
              "  </tbody>\n",
              "</table>\n",
              "</div>\n",
              "    <div class=\"colab-df-buttons\">\n",
              "\n",
              "  <div class=\"colab-df-container\">\n",
              "    <button class=\"colab-df-convert\" onclick=\"convertToInteractive('df-8e605274-616b-421c-9047-9622edb7c569')\"\n",
              "            title=\"Convert this dataframe to an interactive table.\"\n",
              "            style=\"display:none;\">\n",
              "\n",
              "  <svg xmlns=\"http://www.w3.org/2000/svg\" height=\"24px\" viewBox=\"0 -960 960 960\">\n",
              "    <path d=\"M120-120v-720h720v720H120Zm60-500h600v-160H180v160Zm220 220h160v-160H400v160Zm0 220h160v-160H400v160ZM180-400h160v-160H180v160Zm440 0h160v-160H620v160ZM180-180h160v-160H180v160Zm440 0h160v-160H620v160Z\"/>\n",
              "  </svg>\n",
              "    </button>\n",
              "\n",
              "  <style>\n",
              "    .colab-df-container {\n",
              "      display:flex;\n",
              "      gap: 12px;\n",
              "    }\n",
              "\n",
              "    .colab-df-convert {\n",
              "      background-color: #E8F0FE;\n",
              "      border: none;\n",
              "      border-radius: 50%;\n",
              "      cursor: pointer;\n",
              "      display: none;\n",
              "      fill: #1967D2;\n",
              "      height: 32px;\n",
              "      padding: 0 0 0 0;\n",
              "      width: 32px;\n",
              "    }\n",
              "\n",
              "    .colab-df-convert:hover {\n",
              "      background-color: #E2EBFA;\n",
              "      box-shadow: 0px 1px 2px rgba(60, 64, 67, 0.3), 0px 1px 3px 1px rgba(60, 64, 67, 0.15);\n",
              "      fill: #174EA6;\n",
              "    }\n",
              "\n",
              "    .colab-df-buttons div {\n",
              "      margin-bottom: 4px;\n",
              "    }\n",
              "\n",
              "    [theme=dark] .colab-df-convert {\n",
              "      background-color: #3B4455;\n",
              "      fill: #D2E3FC;\n",
              "    }\n",
              "\n",
              "    [theme=dark] .colab-df-convert:hover {\n",
              "      background-color: #434B5C;\n",
              "      box-shadow: 0px 1px 3px 1px rgba(0, 0, 0, 0.15);\n",
              "      filter: drop-shadow(0px 1px 2px rgba(0, 0, 0, 0.3));\n",
              "      fill: #FFFFFF;\n",
              "    }\n",
              "  </style>\n",
              "\n",
              "    <script>\n",
              "      const buttonEl =\n",
              "        document.querySelector('#df-8e605274-616b-421c-9047-9622edb7c569 button.colab-df-convert');\n",
              "      buttonEl.style.display =\n",
              "        google.colab.kernel.accessAllowed ? 'block' : 'none';\n",
              "\n",
              "      async function convertToInteractive(key) {\n",
              "        const element = document.querySelector('#df-8e605274-616b-421c-9047-9622edb7c569');\n",
              "        const dataTable =\n",
              "          await google.colab.kernel.invokeFunction('convertToInteractive',\n",
              "                                                    [key], {});\n",
              "        if (!dataTable) return;\n",
              "\n",
              "        const docLinkHtml = 'Like what you see? Visit the ' +\n",
              "          '<a target=\"_blank\" href=https://colab.research.google.com/notebooks/data_table.ipynb>data table notebook</a>'\n",
              "          + ' to learn more about interactive tables.';\n",
              "        element.innerHTML = '';\n",
              "        dataTable['output_type'] = 'display_data';\n",
              "        await google.colab.output.renderOutput(dataTable, element);\n",
              "        const docLink = document.createElement('div');\n",
              "        docLink.innerHTML = docLinkHtml;\n",
              "        element.appendChild(docLink);\n",
              "      }\n",
              "    </script>\n",
              "  </div>\n",
              "\n",
              "\n",
              "    </div>\n",
              "  </div>\n"
            ],
            "application/vnd.google.colaboratory.intrinsic+json": {
              "type": "dataframe",
              "repr_error": "Out of range float values are not JSON compliant: nan"
            }
          },
          "metadata": {},
          "execution_count": 15
        }
      ]
    },
    {
      "cell_type": "code",
      "source": [
        "print(\"Total rows after removing duplicates:\", df.shape[0])"
      ],
      "metadata": {
        "colab": {
          "base_uri": "https://localhost:8080/"
        },
        "id": "mlL7OMCAn3IO",
        "outputId": "cf929726-c894-488d-aa7e-e79ba65116dc"
      },
      "execution_count": null,
      "outputs": [
        {
          "output_type": "stream",
          "name": "stdout",
          "text": [
            "Total rows after removing duplicates: 452\n"
          ]
        }
      ]
    },
    {
      "cell_type": "code",
      "source": [
        "# Compute summary statistics\n",
        "print(\"Summary Statistics: \")\n",
        "print(df.describe())"
      ],
      "metadata": {
        "colab": {
          "base_uri": "https://localhost:8080/"
        },
        "id": "CthEhJpDo2Xh",
        "outputId": "ce0a3264-792e-4178-fe69-3399ac4ae7c8"
      },
      "execution_count": null,
      "outputs": [
        {
          "output_type": "stream",
          "name": "stdout",
          "text": [
            "Summary Statistics: \n",
            "              Age  SystolicBP  DiastolicBP          BS    BodyTemp   HeartRate\n",
            "count  452.000000  452.000000   452.000000  452.000000  452.000000  452.000000\n",
            "mean    29.194690  110.553097    75.418142    8.346173   98.692478   73.949115\n",
            "std     13.767379   17.872282    13.754578    2.829209    1.410897    8.156973\n",
            "min     10.000000   70.000000    49.000000    6.000000   98.000000    7.000000\n",
            "25%     19.000000   90.000000    65.000000    6.900000   98.000000   70.000000\n",
            "50%     25.000000  120.000000    80.000000    7.500000   98.000000   76.000000\n",
            "75%     35.000000  120.000000    86.000000    7.900000   98.000000   80.000000\n",
            "max     70.000000  160.000000   100.000000   19.000000  103.000000   90.000000\n"
          ]
        }
      ]
    },
    {
      "cell_type": "code",
      "source": [
        "# Display the first few rows\n",
        "print(\"First 5 rows: \")\n",
        "print(df.head())"
      ],
      "metadata": {
        "colab": {
          "base_uri": "https://localhost:8080/"
        },
        "id": "ZPEQa1qwpEC9",
        "outputId": "6626446f-8a9d-4212-a97c-f00421ad47a2"
      },
      "execution_count": null,
      "outputs": [
        {
          "output_type": "stream",
          "name": "stdout",
          "text": [
            "First 5 rows: \n",
            "   Age  SystolicBP  DiastolicBP    BS  BodyTemp  HeartRate  RiskLevel\n",
            "0   25         130           80  15.0      98.0         86  high risk\n",
            "1   35         140           90  13.0      98.0         70  high risk\n",
            "2   29          90           70   8.0     100.0         80  high risk\n",
            "3   30         140           85   7.0      98.0         70  high risk\n",
            "4   35         120           60   6.1      98.0         76   low risk\n"
          ]
        }
      ]
    },
    {
      "cell_type": "markdown",
      "source": [
        "#Data Visualization\n"
      ],
      "metadata": {
        "id": "cx0gVZkupTGw"
      }
    },
    {
      "cell_type": "code",
      "source": [
        "import matplotlib.pyplot as plt\n",
        "import seaborn as sns\n",
        "\n",
        "sns.set_style(\"whitegrid\")"
      ],
      "metadata": {
        "id": "W6OmgCpRpRkm"
      },
      "execution_count": null,
      "outputs": []
    },
    {
      "cell_type": "code",
      "source": [
        "# Risk Level Distribution (Bar Chart)\n",
        "plt.figure(figsize=(6,4))\n",
        "sns.countplot(data=df, x=\"RiskLevel\", hue=\"RiskLevel\", palette=\"coolwarm\")\n",
        "plt.title(\"Distribution of Maternal Health Risk Levels\")\n",
        "plt.xlabel(\"Risk Level\")\n",
        "plt.ylabel(\"Count\")\n",
        "plt.show()"
      ],
      "metadata": {
        "colab": {
          "base_uri": "https://localhost:8080/",
          "height": 410
        },
        "id": "Pt0ehwP4pWB1",
        "outputId": "5d22d066-dd89-4d14-dd80-2d317c245dd9"
      },
      "execution_count": null,
      "outputs": [
        {
          "output_type": "display_data",
          "data": {
            "text/plain": [
              "<Figure size 600x400 with 1 Axes>"
            ],
            "image/png": "[encoded data removed]"
          },
          "metadata": {}
        }
      ]
    },
    {
      "cell_type": "markdown",
      "source": [
        "The above bar chart helps us understand how the data is distributed across high, medium, and low risk levels. According to the above bar chart, the number of women in low risk group completely overwhelms that of women in high and mid risk group. Similarly, the number of women in high risk and mid risk group appear to be approximate."
      ],
      "metadata": {
        "id": "w6CSGe6Oqot2"
      }
    },
    {
      "cell_type": "code",
      "source": [
        "# Histograms of Key Features\n",
        "\n",
        "# Create histograms\n",
        "df.hist(figsize=(10, 8), bins=15, color=\"skyblue\", edgecolor=\"black\")\n",
        "\n",
        "# Set the overall title\n",
        "plt.suptitle(\"Feature Distributions\", fontsize=14)\n",
        "\n",
        "# Label the x and y axes for each subplot\n",
        "for ax in plt.gcf().axes:  # Loop through all subplot axes\n",
        "    ax.set_ylabel(\"Frequency\")  # Label y-axis as 'Frequency'\n",
        "    ax.set_xlabel(ax.get_title())  # Set x-axis label to the feature name\n",
        "    ax.set_title(\"\")  # Remove the default title to avoid redundancy\n",
        "\n",
        "plt.show()\n"
      ],
      "metadata": {
        "colab": {
          "base_uri": "https://localhost:8080/",
          "height": 776
        },
        "id": "s_Qbw9rgtJDO",
        "outputId": "ade85273-7bc4-41a1-a574-678a864b4e5b"
      },
      "execution_count": null,
      "outputs": [
        {
          "output_type": "display_data",
          "data": {
            "text/plain": [
              "<Figure size 1000x800 with 6 Axes>"
            ],
            "image/png": "[encoded data removed]"
          },
          "metadata": {}
        }
      ]
    },
    {
      "cell_type": "markdown",
      "source": [
        "The above histograms helps check data skewness and spread. From the above histograms:\n",
        "1. Right-skewed (Positive-skewnes): age, glucose level, and body temperature, which suggests few individuals have significantly higher values\n",
        "2. Left-skewed (Negative-skewness): heart rate, which implies few individuals have much lower heart rates.\n",
        "3. Symmetric (Approximately Normal Distribution): systolicBP, and diastolicBP, which suggests most individuals have blood pressure values close to the mean"
      ],
      "metadata": {
        "id": "VL_8C3-ouilm"
      }
    },
    {
      "cell_type": "code",
      "source": [
        "import pandas as pd\n",
        "import matplotlib.pyplot as plt\n",
        "import seaborn as sns\n",
        "\n",
        "# Set the plot style\n",
        "sns.set(style=\"whitegrid\")\n",
        "\n",
        "# Define numerical features\n",
        "numerical_features = [\"Age\", \"SystolicBP\", \"DiastolicBP\", \"BS\", \"BodyTemp\", \"HeartRate\"]\n",
        "\n",
        "# Create scatter plots\n",
        "plt.figure(figsize=(15, 10))\n",
        "for i, feature in enumerate(numerical_features, 1):\n",
        "    plt.subplot(2, 3, i)\n",
        "    sns.stripplot(x=df[\"RiskLevel\"], y=df[feature], jitter=True, alpha=0.6)\n",
        "    plt.title(f\"{feature} vs RiskLevel\")\n",
        "    plt.xlabel(\"Risk Level\")\n",
        "    plt.ylabel(feature)\n",
        "\n",
        "plt.tight_layout()\n",
        "plt.show()\n"
      ],
      "metadata": {
        "colab": {
          "base_uri": "https://localhost:8080/",
          "height": 697
        },
        "id": "Qs3CkheQG9lx",
        "outputId": "670fb4ad-7fe6-4124-d227-86a4451bfdc8"
      },
      "execution_count": null,
      "outputs": [
        {
          "output_type": "display_data",
          "data": {
            "text/plain": [
              "<Figure size 1500x1000 with 6 Axes>"
            ],
            "image/png": "[encoded data removed]"
          },
          "metadata": {}
        }
      ]
    },
    {
      "cell_type": "markdown",
      "source": [
        "In the above scatter plot, the data points suggest a spread of values for each parameter across risk levels. The plots may indicate trends, such as higher BP or blood sugar in high-risk individuals. Clustering of points might indicate patterns in health parameters associated with different risk levels.\n"
      ],
      "metadata": {
        "id": "kPfVWEiIG8HQ"
      }
    },
    {
      "cell_type": "markdown",
      "source": [
        "#2. Build a Model from Scratch"
      ],
      "metadata": {
        "id": "L3yPsrgRxXeF"
      }
    },
    {
      "cell_type": "markdown",
      "source": [
        "#Logistic Regression (Softmax)"
      ],
      "metadata": {
        "id": "Su3WsDGuyWT-"
      }
    },
    {
      "cell_type": "code",
      "source": [
        "# Define a function for train-test split from scratch\n",
        "def train_test_split_scratch(X, y_encoded, test_size=0.3, random_seed=42):\n",
        "    np.random.seed(random_seed)\n",
        "    indices = np.arange(X.shape[0])\n",
        "    np.random.shuffle(indices)  # Shuffle the indices\n",
        "\n",
        "    test_split_size = int(len(X) * test_size)\n",
        "    test_indices = indices[:test_split_size]\n",
        "    train_indices = indices[test_split_size:]\n",
        "\n",
        "    X_train = X[train_indices]\n",
        "    X_test = X[test_indices]\n",
        "    y_train = y_encoded[train_indices]\n",
        "    y_test = y_encoded[test_indices]\n",
        "\n",
        "    return X_train, X_test, y_train, y_test"
      ],
      "metadata": {
        "id": "j2Nk5rWAdmGb"
      },
      "execution_count": null,
      "outputs": []
    },
    {
      "cell_type": "code",
      "source": [
        "#scale the feature matrix x\n",
        "def scale_features(x_train, x_test):\n",
        "  \"\"\"\n",
        "  scale features using Z-score normalization\n",
        "  Arguments:\n",
        "  x_train: np.ndarray; training data features\n",
        "  x_test: np.ndarray; testing data features\n",
        "  Returns:\n",
        "  x_train_scaled: np.ndarray; scaled training data\n",
        "  x_test_scaled: np.ndarray; scaled testing data\n",
        "  \"\"\"\n",
        "\n",
        "  mean = np.mean(x_train, axis=0)\n",
        "  std = np.std(x_train, axis=0)\n",
        "  x_train_scaled = (x_train - mean) / std\n",
        "  x_test_scaled = (x_test - mean) / std\n",
        "  return x_train_scaled, x_test_scaled"
      ],
      "metadata": {
        "id": "VH0rvwf4vGh-"
      },
      "execution_count": null,
      "outputs": []
    },
    {
      "cell_type": "code",
      "source": [
        "import numpy as np\n",
        "\n",
        "# Implementing Softmax Function\n",
        "def softmax(z):\n",
        "    exp_z = np.exp(z - np.max(z, axis=1, keepdims=True))  # Normalize for numerical stability\n",
        "    return exp_z / np.sum(exp_z, axis=1, keepdims=True)\n",
        "\n",
        "# Implementing Categorical Log-Loss (Cross-Entropy)\n",
        "def loss_softmax(y_true, y_pred):\n",
        "    return -np.sum(y_true * np.log(y_pred + 1e-10))  # Adding epsilon to prevent log(0)\n",
        "\n",
        "# Implementing Cost Function (Average Loss)\n",
        "def cost_softmax(X, y, W, b):\n",
        "    n, d = X.shape\n",
        "    z = np.dot(X, W) + b.reshape(1, -1)  # Ensure b has correct shape\n",
        "    y_pred = softmax(z)\n",
        "    return -np.sum(y * np.log(y_pred + 1e-10)) / n  # Avoid log(0) errors\n",
        "\n",
        "# Compute Gradients for Softmax Regression\n",
        "def compute_gradient_softmax(X, y, W, b):\n",
        "    n, d = X.shape\n",
        "    z = np.dot(X, W) + b.reshape(1, -1)\n",
        "    y_pred = np.clip(softmax(z), 1e-10, 1.0)  # Prevent instability\n",
        "    grad_W = np.dot(X.T, (y_pred - y)) / n  # Weight gradient\n",
        "    grad_b = np.sum(y_pred - y, axis=0) / n  # Bias gradient\n",
        "    return grad_W, grad_b\n",
        "\n",
        "# Gradient Descent for Softmax Regression\n",
        "def gradient_descent_softmax(X, y, W, b, alpha, n_iter, show_cost=False):\n",
        "    cost_history = []\n",
        "\n",
        "    for i in range(n_iter):\n",
        "        grad_W, grad_b = compute_gradient_softmax(X, y, W, b)\n",
        "\n",
        "        W -= alpha * grad_W\n",
        "        b -= alpha * grad_b\n",
        "\n",
        "        cost = cost_softmax(X, y, W, b)\n",
        "        cost_history.append(cost)\n",
        "\n",
        "        if show_cost and (i % 100 == 0 or i == n_iter - 1):\n",
        "            print(f\"Iteration {i}: Cost = {cost:.6f}\")\n",
        "\n",
        "    return W, b, cost_history\n",
        "\n"
      ],
      "metadata": {
        "id": "SECHWK4t3IYN"
      },
      "execution_count": null,
      "outputs": []
    },
    {
      "cell_type": "code",
      "source": [
        "# Decision/Prediction function for softmax regresion for multi-class classification\n",
        "import numpy as np\n",
        "def predict_softmax(X, W, b):\n",
        "  \"\"\"\n",
        "  Predict the class labels for input data\n",
        "\n",
        "  Parameters:\n",
        "\n",
        "  X (numpy.ndarray): Feature matrix of shape (n, d)\n",
        "  W (numpy.ndarray): Weight matrix of shape (d, c)\n",
        "  b (numpy.ndarray): Bias vector of shape (c,)\n",
        "\n",
        "  Returns:\n",
        "  numpy.ndarray: Predicted class labels of shape (n,)\n",
        "  \"\"\"\n",
        "  z = np.dot(X,W) + b\n",
        "  y_pred = softmax(z)\n",
        "  return np.argmax(y_pred, axis=1)\n",
        "  # np.argmax(): returns the index of the maximum value along each row of the y_pred matrix"
      ],
      "metadata": {
        "id": "sA-2re8p3ixC"
      },
      "execution_count": null,
      "outputs": []
    },
    {
      "cell_type": "code",
      "source": [
        "# Evaluating Classifier\n",
        "def evaluate_classsification(y_true, y_pred):\n",
        "  \"\"\"\n",
        "  Evaluate the classification performance using confusion matrix, precision, recall, and F1-score.\n",
        "\n",
        "  Confusion matrix: shows the performance of the classification model. It is a table with\n",
        "  actual values(y_true) against predicted values(y_pred). It shows how many times each\n",
        "  class was correctly or incorrectly predicted.\n",
        "\n",
        "  Precision: proportion of true positive predictions out of al positive predictions made\n",
        "  by the classifier.\n",
        "\n",
        "  Parameters:\n",
        "  y_true (numpy.ndarray): True class labels of shape (n,)\n",
        "  y_pred (numpy.ndarray): Predicted class labels of shape (n,)\n",
        "\n",
        "  Returns:\n",
        "  tuple: Confusion matrix, precision, recall, and F1-score\n",
        "  \"\"\"\n",
        "  from sklearn.metrics import confusion_matrix, precision_score, recall_score, f1_score\n",
        "  cm = confusion_matrix(y_true, y_pred)\n",
        "  precision = precision_score(y_true, y_pred, average=\"weighted\", zero_division=0)\n",
        "  recall = recall_score(y_true, y_pred, average=\"weighted\", zero_division=0)\n",
        "  f1 = f1_score(y_true, y_pred, average=\"weighted\", zero_division=0)\n",
        "  # average=\"weighted\": metric is calculated individually for each class and then averaged,\n",
        "  # with the average weighted by the number of samples of each class.\n",
        "\n",
        "  #zero_division=0: if no positive predictions are made, it will return 0 instead of raising an error.\n",
        "\n",
        "  return cm, precision, recall, f1"
      ],
      "metadata": {
        "id": "Tcyt9w2P375d"
      },
      "execution_count": null,
      "outputs": []
    },
    {
      "cell_type": "code",
      "source": [
        "import numpy as np\n",
        "import pandas as pd\n",
        "\n",
        "# Load dataset\n",
        "df = pd.read_csv(\"/content/drive/MyDrive/AI_Assessment/Maternal Health Risk Data Set.csv\")\n",
        "\n",
        "# Remove duplicate rows\n",
        "df.drop_duplicates(inplace=True)\n",
        "\n",
        "# Separate feature matrix (X) and target variable (y)\n",
        "X = df.drop(columns=['RiskLevel'])\n",
        "y = df['RiskLevel']\n",
        "\n",
        "# Apply one-hot encoding to the target variable\n",
        "y_onehot = pd.get_dummies(y, dtype=int)\n",
        "\n",
        "# Convert to NumPy arrays (ONLY if still DataFrame)\n",
        "if isinstance(X, pd.DataFrame):\n",
        "    X = X.to_numpy()\n",
        "if isinstance(y_onehot, pd.DataFrame):\n",
        "    y_onehot = y_onehot.to_numpy()\n",
        "\n",
        "# Perform train-test split\n",
        "X_train, X_test, y_train, y_test = train_test_split_scratch(X, y_onehot, test_size=0.3)\n"
      ],
      "metadata": {
        "id": "wqBcr6nheQAB"
      },
      "execution_count": null,
      "outputs": []
    },
    {
      "cell_type": "code",
      "source": [
        "# Scale the feature matrix\n",
        "X_train_scaled, X_test_scaled = scale_features(X_train, X_test)"
      ],
      "metadata": {
        "id": "k6-zpRpwe2Q1"
      },
      "execution_count": null,
      "outputs": []
    },
    {
      "cell_type": "code",
      "source": [
        "# Training of the softmax regression\n",
        "import numpy as np\n",
        "import matplotlib.pyplot as plt\n",
        "\n",
        "num_classes = y_train.shape[1] #number of classes within label vector\n",
        "num_features = X_train_scaled.shape[1] #number of input features\n",
        "W = np.zeros((num_features, num_classes))\n",
        "b = np.zeros(num_classes)\n",
        "alpha = 0.1\n",
        "n_iter = 1000\n",
        "\n",
        "print(\"Training softmax regression model:\")\n",
        "W, b, cost_history = gradient_descent_softmax(X_train_scaled, y_train, W, b, alpha, n_iter, show_cost=True)\n",
        "\n",
        "# Plot Cost Vs. Iterations:\n",
        "plt.figure(figsize=(9,6))\n",
        "plt.plot(cost_history)\n",
        "plt.xlabel(\"Iteration\", fontsize=14)\n",
        "plt.ylabel(\"Cost\", fontsize=14)\n",
        "plt.title(\"Cost vs Iteration\", fontsize=14)\n",
        "plt.tight_layout()\n",
        "plt.show()"
      ],
      "metadata": {
        "colab": {
          "base_uri": "https://localhost:8080/",
          "height": 815
        },
        "id": "rqgzQUky0bJs",
        "outputId": "db2f4f0f-8ca7-404f-f4c8-30f42df7376e"
      },
      "execution_count": null,
      "outputs": [
        {
          "output_type": "stream",
          "name": "stdout",
          "text": [
            "Training softmax regression model:\n",
            "Iteration 0: Cost = 1.071594\n",
            "Iteration 100: Cost = 0.746158\n",
            "Iteration 200: Cost = 0.733650\n",
            "Iteration 300: Cost = 0.729871\n",
            "Iteration 400: Cost = 0.728372\n",
            "Iteration 500: Cost = 0.727693\n",
            "Iteration 600: Cost = 0.727356\n",
            "Iteration 700: Cost = 0.727179\n",
            "Iteration 800: Cost = 0.727082\n",
            "Iteration 900: Cost = 0.727026\n",
            "Iteration 999: Cost = 0.726995\n"
          ]
        },
        {
          "output_type": "display_data",
          "data": {
            "text/plain": [
              "<Figure size 900x600 with 1 Axes>"
            ],
            "image/png": "[encoded data removed]"
          },
          "metadata": {}
        }
      ]
    },
    {
      "cell_type": "code",
      "source": [
        "# Did the model overfit or underfit?\n",
        "y_train_pred = predict_softmax(X_train_scaled, W, b)\n",
        "y_test_pred = predict_softmax(X_test_scaled, W, b)\n",
        "\n",
        "# evaluate train and test performance\n",
        "train_cost = cost_softmax(X_train_scaled, y_train, W, b)\n",
        "test_cost = cost_softmax(X_test_scaled, y_test, W, b)\n",
        "print(f\"Train Loss (Cost): {train_cost:.4f}\")\n",
        "print(f\"\\nTest Loss (Cost): {test_cost:.4f}\")"
      ],
      "metadata": {
        "colab": {
          "base_uri": "https://localhost:8080/"
        },
        "id": "vs2i6veN3b9m",
        "outputId": "8eca80ad-0499-4249-b08a-a811828d3462"
      },
      "execution_count": null,
      "outputs": [
        {
          "output_type": "stream",
          "name": "stdout",
          "text": [
            "Train Loss (Cost): 0.7270\n",
            "\n",
            "Test Loss (Cost): 0.8211\n"
          ]
        }
      ]
    },
    {
      "cell_type": "markdown",
      "source": [
        "Train Loss (0.7270): A lower loss indicates the predicted values are closer to the true values.\n",
        "\n",
        "Test Loss (0.8211): The test loss is higher than train loss, indicating that the model might be overfitting to the training data and not generalizing well to unseen data."
      ],
      "metadata": {
        "id": "iq1GfouI4hVn"
      }
    },
    {
      "cell_type": "code",
      "source": [
        "# How well my model did?\n",
        "\n",
        "# converting one hot encoding into class indices\n",
        "y_test_true = np.argmax(y_test, axis=1)\n",
        "\n",
        "# accuracy on test data\n",
        "test_accuracy = np.mean(y_test_pred == y_test_true) * 100\n",
        "print(f\"Test Accuracy: {test_accuracy:.2f}%\")\n",
        "\n",
        "# # evaluation\n",
        "cm, precision, recall, f1 = evaluate_classsification(y_test_true, y_test_pred)\n",
        "print(\"\\nConfusion Matrix:\")\n",
        "print(cm)\n",
        "print(f\"\\nPrecision: {precision:.2f}\")\n",
        "print(f\"\\nRecall: {recall:.2f}\")\n",
        "print(f\"\\nF1-Score: {f1:.2f}\")"
      ],
      "metadata": {
        "colab": {
          "base_uri": "https://localhost:8080/"
        },
        "id": "-Jz_xUWY32AG",
        "outputId": "804183e4-66d5-4528-cc46-9db8adc0a3b8"
      },
      "execution_count": null,
      "outputs": [
        {
          "output_type": "stream",
          "name": "stdout",
          "text": [
            "Test Accuracy: 63.70%\n",
            "\n",
            "Confusion Matrix:\n",
            "[[20  9  2]\n",
            " [ 3 62  0]\n",
            " [ 8 27  4]]\n",
            "\n",
            "Precision: 0.65\n",
            "\n",
            "Recall: 0.64\n",
            "\n",
            "F1-Score: 0.57\n"
          ]
        }
      ]
    },
    {
      "cell_type": "markdown",
      "source": [
        "a. Accuracy (67.70%): The model correctly predicted the class for 67.03% of the test instances.\n",
        "\n",
        "\n",
        "\n"
      ],
      "metadata": {
        "id": "xCss_f_p5OfH"
      }
    },
    {
      "cell_type": "markdown",
      "source": [
        "b. Confusion Matrix:\n",
        "\n",
        "For Class 0:\n",
        "\n",
        "1. 20 instances of Class 0 were correclty predicted as Class 0.\n",
        "2. 9 instances of Class 0 were misclassified as Class 1.\n",
        "3. 2 instances of Class 0 were misclassified as Class 2.\n",
        "\n",
        "For Class 1:\n",
        "1. 3 instances of Class 1 were missclassified as Class 0.\n",
        "2. 62 instances of Class 1 were correclty predicted as Class 1.\n",
        "3. No instances of Class 1 were misclassified as Class 2.\n",
        "\n",
        "For Class 3:\n",
        "1. 8 instances of Class 2 were misclassified as Class 0.\n",
        "2. 27 instances of Class 2 were misclassified as Class 1.\n",
        "3. 4 instance of Class 2 were correctly predicted as Class 2.\n",
        "\n",
        "Overall, Class 1 is the best predicted class with fewer misclassification. Class 0 has second highest misclassification whereas Class 2 has the highest misclassification rates."
      ],
      "metadata": {
        "id": "VvTqDE8W6tCd"
      }
    },
    {
      "cell_type": "markdown",
      "source": [
        "c. Precision (0.65): Precision tells you the proportion of true positive predictions out of all positive predictions for a specific class. In this case, for each predicted positive class, 65% of them were actually correct. This indicates that the model does a decent job at making positive predictions without too many false positives."
      ],
      "metadata": {
        "id": "Jo4KhGjz7wpO"
      }
    },
    {
      "cell_type": "markdown",
      "source": [
        "d. Recall (0.64): Recall measures the proportion of true positive predictions out of all actual positive instances (true positives + false negatives) of a specific class. Here, the model correctly identified 64% of the actual positive instances. It missed 36% of the false negatives (instances that the model failed to identify correctly and misclassified them as other classes)."
      ],
      "metadata": {
        "id": "SelYHIGd8c9m"
      }
    },
    {
      "cell_type": "markdown",
      "source": [
        "F1-Score (0.57): The F1-Score is the harmonic mean of precision and recall. It gives a balance between precision and recall, especially useful when you care about both false positives and false negatives. An F1-Score of 0.57 suggests that the model's performance is somewhat moderate, as it balances between the two metrics but is not performing excellently."
      ],
      "metadata": {
        "id": "UKbiq92M9gnn"
      }
    },
    {
      "cell_type": "markdown",
      "source": [
        "Overall Interpretation:\n",
        "\n",
        "1. The model performs moderately well but still has room for improvement.\n",
        "2. It has good precision (indicating that when it predicts a class, it's likely correct) but lower recall (indicating it misses some instances of that class).\n",
        "3. The F1-score reflects a somewhat imbalanced performance between precision and recall, which suggests that the model might not be classifying all classes effectively."
      ],
      "metadata": {
        "id": "nwanXwhk9w6U"
      }
    },
    {
      "cell_type": "markdown",
      "source": [
        "#3. Build a Primary Model"
      ],
      "metadata": {
        "id": "pEBrhf_F-CLw"
      }
    },
    {
      "cell_type": "markdown",
      "source": [
        "#KNN model"
      ],
      "metadata": {
        "id": "zN362m2f-HG_"
      }
    },
    {
      "cell_type": "code",
      "source": [
        "from sklearn.model_selection import train_test_split\n",
        "from sklearn.preprocessing import StandardScaler\n",
        "from sklearn.neighbors import KNeighborsClassifier\n",
        "from sklearn.metrics import confusion_matrix, precision_score, recall_score, f1_score, accuracy_score"
      ],
      "metadata": {
        "id": "2fkOz3DA_GXF"
      },
      "execution_count": null,
      "outputs": []
    },
    {
      "cell_type": "code",
      "source": [
        "#Read the dataset into a pandas DataFrame.\n",
        "df = pd.read_csv(\"/content/drive/MyDrive/AI_Assessment/Maternal Health Risk Data Set.csv\")\n",
        "\n",
        "# Remove duplicate rows\n",
        "df.drop_duplicates(inplace=True)\n",
        "\n",
        "X = df[['Age', 'SystolicBP', 'DiastolicBP', 'BS', 'BodyTemp', 'HeartRate']].values\n",
        "y = df['RiskLevel'].values"
      ],
      "metadata": {
        "id": "oq644-Ja_Wr0"
      },
      "execution_count": null,
      "outputs": []
    },
    {
      "cell_type": "code",
      "source": [
        "# splitting data into training and testing sets\n",
        "X_train, X_test, y_train, y_test = train_test_split(X, y, test_size = 0.3, random_state = 42)\n",
        "\n",
        "# scale the functions\n",
        "scaler = StandardScaler()\n",
        "X_train = scaler.fit_transform(X_train)\n",
        "X_test = scaler.transform(X_test)"
      ],
      "metadata": {
        "id": "ZUK--iEzAWk-"
      },
      "execution_count": null,
      "outputs": []
    },
    {
      "cell_type": "code",
      "source": [
        "# initialize the KNN model\n",
        "k = 5\n",
        "knn = KNeighborsClassifier(n_neighbors=k)\n",
        "\n",
        "# trim the model\n",
        "knn.fit(X_train, y_train)\n",
        "\n",
        "# predict on test data\n",
        "y_pred = knn.predict(X_test)"
      ],
      "metadata": {
        "id": "7OXvSu1eAfZ1"
      },
      "execution_count": null,
      "outputs": []
    },
    {
      "cell_type": "code",
      "source": [
        "# evaluate the model\n",
        "\n",
        "accuracy = accuracy_score(y_test, y_pred)\n",
        "print(f\"KNN Accuracy: {accuracy:.2f}\")\n",
        "\n",
        "precision = precision_score(y_test, y_pred, average='weighted')\n",
        "print(f\"KNN Precision: {precision:.2f}\")\n",
        "\n",
        "recall = recall_score(y_test, y_pred, average='weighted')\n",
        "print(f\"KNN Recall: {recall:.2f}\")\n",
        "\n",
        "f1 = f1_score(y_test, y_pred, average='weighted')\n",
        "print(f\"KNN F1-Score: {f1:.2f}\")\n",
        "\n",
        "conf_matrix = confusion_matrix(y_test, y_pred)\n",
        "print(\"KNN Confusion Matrix:\\n\", conf_matrix)"
      ],
      "metadata": {
        "colab": {
          "base_uri": "https://localhost:8080/"
        },
        "id": "AoK07PVuAjSP",
        "outputId": "ff16f660-5de6-4a2b-b4de-14d9635ee11f"
      },
      "execution_count": null,
      "outputs": [
        {
          "output_type": "stream",
          "name": "stdout",
          "text": [
            "KNN Accuracy: 0.66\n",
            "KNN Precision: 0.65\n",
            "KNN Recall: 0.66\n",
            "KNN F1-Score: 0.62\n",
            "KNN Confusion Matrix:\n",
            " [[24  6  2]\n",
            " [ 2 59  4]\n",
            " [ 3 29  7]]\n"
          ]
        }
      ]
    },
    {
      "cell_type": "markdown",
      "source": [
        "#Random Forest"
      ],
      "metadata": {
        "id": "C25V8g20A6uO"
      }
    },
    {
      "cell_type": "code",
      "source": [
        "from sklearn.model_selection import train_test_split, GridSearchCV, RandomizedSearchCV\n",
        "from sklearn.ensemble import RandomForestClassifier\n",
        "from sklearn.metrics import confusion_matrix, precision_score, recall_score, f1_score"
      ],
      "metadata": {
        "id": "xzvRvXJLBQlV"
      },
      "execution_count": null,
      "outputs": []
    },
    {
      "cell_type": "code",
      "source": [
        "#Read the dataset into a pandas DataFrame.\n",
        "df = pd.read_csv(\"/content/drive/MyDrive/AI_Assessment/Maternal Health Risk Data Set.csv\")\n",
        "\n",
        "# Remove duplicate rows\n",
        "df.drop_duplicates(inplace=True)\n",
        "\n",
        "X = df[['Age', 'SystolicBP', 'DiastolicBP', 'BS', 'BodyTemp', 'HeartRate']].values\n",
        "y = df['RiskLevel'].values"
      ],
      "metadata": {
        "id": "Iy07WJgZBXd-"
      },
      "execution_count": null,
      "outputs": []
    },
    {
      "cell_type": "code",
      "source": [
        "# split data for classification and regression\n",
        "X_train, X_test, y_train, y_test = train_test_split(X, y, test_size=0.3, random_state=42)\n"
      ],
      "metadata": {
        "id": "FoHFEx_OBbx-"
      },
      "execution_count": null,
      "outputs": []
    },
    {
      "cell_type": "code",
      "source": [
        "# random forest classifier\n",
        "rf = RandomForestClassifier(random_state=42)\n",
        "rf.fit(X_train, y_train)\n",
        "y_pred = rf.predict(X_test)\n",
        "\n",
        "rf_accuracy = accuracy_score(y_test, y_pred)\n",
        "print(f\"Random Forest Classifier Accuracy: {rf_accuracy:.2f}\")\n",
        "\n",
        "rf_precision = precision_score(y_test, y_pred, average='weighted')\n",
        "print(f\"Random Forest Classifier Precision: {rf_precision:.2f}\")\n",
        "\n",
        "rf_recall = recall_score(y_test, y_pred, average='weighted')\n",
        "print(f\"Random Forest Classifier Recall: {rf_recall:.2f}\")\n",
        "\n",
        "rf_f1_score = f1_score(y_test, y_pred, average='weighted')\n",
        "print(f\"Random Forest Classifier F1 Score: {rf_f1_score:.2f}\")\n",
        "\n",
        "conf_matrix = confusion_matrix(y_test, y_pred)\n",
        "print(\"Random Forest Classifier Confusion Matrix:\\n\", conf_matrix)"
      ],
      "metadata": {
        "colab": {
          "base_uri": "https://localhost:8080/"
        },
        "id": "UrYtTHzYB1tu",
        "outputId": "e2efee56-287e-4e9e-c64b-4055b6bf6e6d"
      },
      "execution_count": null,
      "outputs": [
        {
          "output_type": "stream",
          "name": "stdout",
          "text": [
            "Random Forest Classifier Accuracy: 0.63\n",
            "Random Forest Classifier Precision: 0.61\n",
            "Random Forest Classifier Recall: 0.63\n",
            "Random Forest Classifier F1 Score: 0.62\n",
            "Random Forest Classifier Confusion Matrix:\n",
            " [[23  4  5]\n",
            " [ 2 52 11]\n",
            " [ 5 23 11]]\n"
          ]
        }
      ]
    },
    {
      "cell_type": "markdown",
      "source": [
        "According to the metrics comparison, KNN performed slightly better than Random Forest in terms of all the metrics. Therefore, KNN is the better model for this case."
      ],
      "metadata": {
        "id": "qPU0DL-whgd-"
      }
    },
    {
      "cell_type": "markdown",
      "source": [
        "#Hyper-parameter Optimization with Cross-Validation"
      ],
      "metadata": {
        "id": "CzlGtLgdh38K"
      }
    },
    {
      "cell_type": "markdown",
      "source": [
        "#KNN with GridSearchCV"
      ],
      "metadata": {
        "id": "NiYwVlMhitQu"
      }
    },
    {
      "cell_type": "code",
      "source": [
        "from sklearn.model_selection import GridSearchCV\n",
        "from sklearn.neighbors import KNeighborsClassifier\n",
        "\n",
        "# Define the parameter grid\n",
        "param_grid_knn = {\n",
        "    'n_neighbors': [3, 5, 7, 9],\n",
        "    'weights': ['uniform', 'distance'],\n",
        "    'algorithm': ['auto', 'ball_tree', 'kd_tree'],\n",
        "    'leaf_size': [20, 30, 40],\n",
        "    'p': [1, 2]\n",
        "}\n",
        "\n",
        "# Apply GridSearchCV\n",
        "grid_search_knn = GridSearchCV(estimator=knn, param_grid=param_grid_knn, cv=5, verbose=2, n_jobs=-1)\n",
        "grid_search_knn.fit(X_train, y_train)\n",
        "\n",
        "# Best parameters\n",
        "print(\"Best hyperparameters for KNN:\", grid_search_knn.best_params_)\n"
      ],
      "metadata": {
        "colab": {
          "base_uri": "https://localhost:8080/"
        },
        "id": "V6KVMCM6h-nI",
        "outputId": "073bf01d-705e-4270-cf17-a10c1a966032"
      },
      "execution_count": null,
      "outputs": [
        {
          "output_type": "stream",
          "name": "stdout",
          "text": [
            "Fitting 5 folds for each of 144 candidates, totalling 720 fits\n",
            "Best hyperparameters for KNN: {'algorithm': 'auto', 'leaf_size': 20, 'n_neighbors': 5, 'p': 1, 'weights': 'uniform'}\n"
          ]
        }
      ]
    },
    {
      "cell_type": "markdown",
      "source": [
        "#Random Forest with GridSearchCV\n"
      ],
      "metadata": {
        "id": "R_A4GcPbi70I"
      }
    },
    {
      "cell_type": "code",
      "source": [
        "from sklearn.model_selection import GridSearchCV\n",
        "from sklearn.ensemble import RandomForestClassifier\n",
        "\n",
        "# Define the parameter grid\n",
        "param_grid = {\n",
        "    'n_estimators': [50, 100, 200],\n",
        "    'max_depth': [None, 10, 20],\n",
        "    'min_samples_split': [2, 5],\n",
        "    'min_samples_leaf': [1, 2],\n",
        "    'max_features': ['sqrt', 'log2'],\n",
        "    'bootstrap': [True, False]\n",
        "}\n",
        "\n",
        "\n",
        "# Apply GridSearchCV\n",
        "grid_search_rf = GridSearchCV(estimator=rf, param_grid=param_grid, cv=5, verbose=2, n_jobs=-1)\n",
        "grid_search_rf.fit(X_train, y_train)\n",
        "\n",
        "# Best parameters\n",
        "print(\"Best hyperparameters for Random Forest:\", grid_search_rf.best_params_)\n"
      ],
      "metadata": {
        "colab": {
          "base_uri": "https://localhost:8080/"
        },
        "id": "5_r5liiAjALQ",
        "outputId": "ef040f65-04e1-4df7-bc57-2874812c2a75"
      },
      "execution_count": null,
      "outputs": [
        {
          "output_type": "stream",
          "name": "stdout",
          "text": [
            "Fitting 5 folds for each of 144 candidates, totalling 720 fits\n",
            "Best hyperparameters for Random Forest: {'bootstrap': False, 'max_depth': None, 'max_features': 'sqrt', 'min_samples_leaf': 2, 'min_samples_split': 5, 'n_estimators': 100}\n"
          ]
        }
      ]
    },
    {
      "cell_type": "markdown",
      "source": [
        "#Feature Selection"
      ],
      "metadata": {
        "id": "R6TL2h5Jkux5"
      }
    },
    {
      "cell_type": "markdown",
      "source": [
        "#KNN Model Feature Selection with Wrapper Method"
      ],
      "metadata": {
        "id": "92Sv3SqSk1pu"
      }
    },
    {
      "cell_type": "code",
      "source": [
        "from sklearn.model_selection import cross_val_score\n",
        "from sklearn.feature_selection import RFE\n",
        "import itertools\n",
        "\n",
        "# Initialize the KNN classifier\n",
        "knn = KNeighborsClassifier()\n",
        "\n",
        "# Manual feature selection using cross-validation to evaluate feature subsets\n",
        "best_accuracy = 0\n",
        "best_features = None\n",
        "num_features = X_train.shape[1]\n",
        "\n",
        "# Evaluate subsets of features\n",
        "for i in range(1, num_features+1):  # Try selecting from 1 to num_features\n",
        "    for feature_set in itertools.combinations(range(num_features), i):\n",
        "        # Select the current feature subset\n",
        "        X_train_subset = X_train_scaled[:, feature_set]\n",
        "        X_test_subset = X_test_scaled[:, feature_set]\n",
        "\n",
        "        # Perform cross-validation and calculate the average accuracy\n",
        "        scores = cross_val_score(knn, X_train_subset, y_train, cv=5, scoring='accuracy')\n",
        "        mean_score = np.mean(scores)\n",
        "\n",
        "        # Update if the current feature subset gives better accuracy\n",
        "        if mean_score > best_accuracy:\n",
        "            best_accuracy = mean_score\n",
        "            best_features = feature_set\n",
        "\n",
        "# Print the best feature subset and accuracy\n",
        "print(f\"Best Feature Subset: {best_features}\")"
      ],
      "metadata": {
        "colab": {
          "base_uri": "https://localhost:8080/"
        },
        "id": "RR1R6JiHk7gX",
        "outputId": "5428b7cf-5f99-4de9-e70a-bbdc7a38e99f"
      },
      "execution_count": null,
      "outputs": [
        {
          "output_type": "stream",
          "name": "stdout",
          "text": [
            "Best Feature Subset: (1, 3)\n"
          ]
        }
      ]
    },
    {
      "cell_type": "markdown",
      "source": [
        "The goal of this process is to select most important features that maximize the accuracy of the KNN model in predicting the target variable.\n",
        "\n",
        "a. Methodology(Wrapper Method + Cross-Validation):\n",
        "\n",
        "1. We evaluate every possible subset of features by selecting combinations of features and applying 5-fold cross-validation.\n",
        "2. For each combination, the KNN classifier is trained and validated using cross-validation (cross_val_score).\n",
        "3. The mean accuracy from the cross-validation is computed for each feature subset.\n",
        "4. The subset that provides the highest average cross-validation accuracy is selected as the \"best\" feature subset.\n",
        "\n",
        "b. Justification for the Chosen Features: The above features were chosen as they provided the highest cross-validation accuracy when combined in the KNN model.\n"
      ],
      "metadata": {
        "id": "3TPTWXRNoJml"
      }
    },
    {
      "cell_type": "markdown",
      "source": [
        "#Random Forest Feature Selection with Wrapper Method"
      ],
      "metadata": {
        "id": "3nM1pEZ1ulVT"
      }
    },
    {
      "cell_type": "code",
      "source": [
        "from sklearn.feature_selection import RFE\n",
        "import pandas as pd\n",
        "\n",
        "# Initialize RFE with Random Forest as the estimator\n",
        "rfe = RFE(estimator=rf, n_features_to_select=3)  # Select the top 5 features\n",
        "\n",
        "# Fit the RFE model on the training data\n",
        "rfe.fit(X_train_scaled, y_train)\n",
        "\n",
        "# Get the selected features\n",
        "selected_features = rfe.support_\n",
        "\n",
        "# Print the selected features\n",
        "print(f\"Selected Features: {X.columns[selected_features]}\")\n",
        "\n",
        "# Train the Random Forest classifier using the selected features\n",
        "X_train_selected = X_train_scaled[:, selected_features]\n",
        "X_test_selected = X_test_scaled[:, selected_features]\n",
        "\n",
        "# Train the Random Forest model and evaluate it\n",
        "rf.fit(X_train_selected, y_train)\n",
        "y_pred = rf.predict(X_test_selected)\n",
        "\n",
        "# Evaluate the model on the test set\n",
        "accuracy = accuracy_score(y_test, y_pred)\n",
        "print(f\"Random Forest Model Accuracy with Selected Features: {accuracy:.2f}\")\n"
      ],
      "metadata": {
        "colab": {
          "base_uri": "https://localhost:8080/"
        },
        "id": "Re4kAR_hm05-",
        "outputId": "9dd6ef97-848e-4520-a8f8-2b3a243576ca"
      },
      "execution_count": null,
      "outputs": [
        {
          "output_type": "stream",
          "name": "stdout",
          "text": [
            "Selected Features: Index(['Age', 'SystolicBP', 'BS'], dtype='object')\n"
          ]
        }
      ]
    },
    {
      "cell_type": "markdown",
      "source": [
        "The goal of this process is to select most important features that maximize the accuracy of the Random Forest Model in predicting the target variable.\n",
        "\n",
        "a. Methodology(RFE (Recursive Feature Elimination)): The top 3 features are retained while other less important features are eliminated.\n",
        "\n",
        "b. Justification for the Chosen Features: Age, SystolicBP, and BS were slected as the top 3 features as they provide the highest accuracy.\n"
      ],
      "metadata": {
        "id": "pC65ZXyqvbU-"
      }
    },
    {
      "cell_type": "markdown",
      "source": [
        "#KNN Final Model"
      ],
      "metadata": {
        "id": "aGDZmQcAyte7"
      }
    },
    {
      "cell_type": "code",
      "source": [
        "from sklearn.model_selection import train_test_split, cross_val_score\n",
        "from sklearn.neighbors import KNeighborsClassifier\n",
        "from sklearn.metrics import accuracy_score, precision_score, recall_score, f1_score, confusion_matrix\n",
        "from sklearn.preprocessing import StandardScaler\n",
        "import pandas as pd\n",
        "\n",
        "# Remove duplicate rows\n",
        "df.drop_duplicates(inplace=True)\n",
        "\n",
        "# Assuming df is your dataframe\n",
        "X = df[['SystolicBP', 'BS']]  # Select the top 3 features\n",
        "y = df['RiskLevel']\n",
        "\n",
        "# Split the data into training and testing sets\n",
        "X_train, X_test, y_train, y_test = train_test_split(X, y, test_size=0.3, random_state=42)\n",
        "\n",
        "# Scale the features (important for KNN)\n",
        "scaler = StandardScaler()\n",
        "X_train_scaled = scaler.fit_transform(X_train)\n",
        "X_test_scaled = scaler.transform(X_test)\n",
        "\n",
        "# Rebuild the KNN model with the best hyperparameters\n",
        "knn = KNeighborsClassifier(n_neighbors=5, algorithm='auto', leaf_size=20, p=1, weights='uniform')\n",
        "\n",
        "# Train the KNN model\n",
        "knn.fit(X_train_scaled, y_train)\n",
        "\n",
        "# Make predictions on the test set\n",
        "y_pred_knn = knn.predict(X_test_scaled)\n",
        "\n",
        "# Evaluate the KNN model's performance on the test set\n",
        "knn_accuracy = accuracy_score(y_test, y_pred_knn)\n",
        "print(f\"KNN Model Accuracy with Optimal Hyperparameters: {knn_accuracy:.2f}\")\n",
        "\n",
        "knn_precision = precision_score(y_test, y_pred_knn, average='weighted')\n",
        "print(f\"KNN Model Precision with Optimal Hyperparameters: {knn_precision:.2f}\")\n",
        "\n",
        "knn_recall = recall_score(y_test, y_pred_knn, average='weighted')\n",
        "print(f\"KNN Model Recall with Optimal Hyperparameters: {knn_recall:.2f}\")\n",
        "\n",
        "knn_f1 = f1_score(y_test, y_pred_knn, average='weighted')\n",
        "print(f\"KNN Model F1-Score with Optimal Hyperparameters: {knn_f1:.2f}\")\n",
        "\n",
        "conf_matrix = confusion_matrix(y_test, y_pred_knn)\n",
        "print(\"KNN Confusion Matrix with Optimal Hyperparameters:\\n\", conf_matrix)\n",
        "\n"
      ],
      "metadata": {
        "colab": {
          "base_uri": "https://localhost:8080/"
        },
        "id": "g-fbwnDUywg2",
        "outputId": "8ee2f960-3a45-4553-eb19-a4bfd4f01090"
      },
      "execution_count": null,
      "outputs": [
        {
          "output_type": "stream",
          "name": "stdout",
          "text": [
            "KNN Model Accuracy with Optimal Hyperparameters: 0.68\n",
            "KNN Model Precision with Optimal Hyperparameters: 0.67\n",
            "KNN Model Recall with Optimal Hyperparameters: 0.68\n",
            "KNN Model F1-Score with Optimal Hyperparameters: 0.66\n",
            "KNN Confusion Matrix with Optimal Hyperparameters:\n",
            " [[26  5  1]\n",
            " [ 2 54  9]\n",
            " [ 5 21 13]]\n"
          ]
        }
      ]
    },
    {
      "cell_type": "markdown",
      "source": [
        "Key Results:\n",
        "\n",
        "1. The model correclty predicts the target varibale 68% of the time.\n",
        "\n",
        "2. The confusion matrix reveals that while the model performs decently in overall accuracy, there are instances of misclassification, particularly between Class1 and Class2.\n",
        "\n",
        "3. A precision of 0.67 suggests that 67% of the time, the model's positive predictions were correct.\n",
        "\n",
        "4. A recall of 0.68 means that 68% of the actual posiitves were identified correclty.\n",
        "\n",
        "5. A F1-score of 0.66 suggests the model is well balanced as compared to Random Forest below."
      ],
      "metadata": {
        "id": "JQ_BYv8izeYV"
      }
    },
    {
      "cell_type": "markdown",
      "source": [
        "#Random Forest Final Model"
      ],
      "metadata": {
        "id": "SFsvYq721J8z"
      }
    },
    {
      "cell_type": "code",
      "source": [
        "from sklearn.ensemble import RandomForestClassifier\n",
        "from sklearn.model_selection import train_test_split\n",
        "from sklearn.metrics import accuracy_score, precision_score, recall_score, f1_score, confusion_matrix\n",
        "from sklearn.preprocessing import StandardScaler\n",
        "\n",
        "# Remove duplicate rows\n",
        "df.drop_duplicates(inplace=True)\n",
        "\n",
        "X = df[['Age', 'SystolicBP', 'BS']]  # Select only the chosen features\n",
        "y = df['RiskLevel']  # The target variable\n",
        "\n",
        "# Split the data into training and testing sets\n",
        "X_train, X_test, y_train, y_test = train_test_split(X, y, test_size=0.3, random_state=42)\n",
        "\n",
        "# Scale the features (important for models like Random Forest)\n",
        "scaler = StandardScaler()\n",
        "X_train_scaled = scaler.fit_transform(X_train)\n",
        "X_test_scaled = scaler.transform(X_test)\n",
        "\n",
        "# Initialize the Random Forest classifier with the provided best hyperparameters\n",
        "rf = RandomForestClassifier(\n",
        "    bootstrap=True,\n",
        "    max_depth=10,\n",
        "    max_features='sqrt',\n",
        "    min_samples_leaf=2,\n",
        "    min_samples_split=5,\n",
        "    n_estimators=50,\n",
        "    random_state=42\n",
        ")\n",
        "\n",
        "# Train the Random Forest model\n",
        "rf.fit(X_train_scaled, y_train)\n",
        "\n",
        "# Make predictions on the test set\n",
        "y_pred = rf.predict(X_test_scaled)\n",
        "\n",
        "# Evaluate the model on the test set\n",
        "rf_accuracy = accuracy_score(y_test, y_pred)\n",
        "print(f\"Random Forest Model Accuracy: {rf_accuracy:.2f}\")\n",
        "\n",
        "rf_precision = precision_score(y_test, y_pred, average='weighted')\n",
        "print(f\"Random Forest Model Precision: {rf_precision:.2f}\")\n",
        "\n",
        "rf_recall = recall_score(y_test, y_pred, average='weighted')\n",
        "print(f\"Random Forest Model Recall: {rf_recall:.2f}\")\n",
        "\n",
        "rf_f1 = f1_score(y_test, y_pred, average='weighted')\n",
        "print(f\"Random Forest Model F1-Score: {rf_f1:.2f}\")\n",
        "\n",
        "conf_matrix = confusion_matrix(y_test, y_pred)\n",
        "print(\"Random Forest Model Confusion Matrix:\\n\", conf_matrix)"
      ],
      "metadata": {
        "colab": {
          "base_uri": "https://localhost:8080/"
        },
        "id": "gs-C-SBW1Mlh",
        "outputId": "9028b7a5-5ba0-42db-cf06-cf443e15e9b0"
      },
      "execution_count": null,
      "outputs": [
        {
          "output_type": "stream",
          "name": "stdout",
          "text": [
            "Random Forest Model Accuracy: 0.68\n",
            "Random Forest Model Precision: 0.67\n",
            "Random Forest Model Recall: 0.68\n",
            "Random Forest Model F1-Score: 0.65\n",
            "Random Forest Model Confusion Matrix:\n",
            " [[24  5  3]\n",
            " [ 0 59  6]\n",
            " [ 5 24 10]]\n"
          ]
        }
      ]
    },
    {
      "cell_type": "markdown",
      "source": [
        "Key Results\n",
        "\n",
        "1. The model correclty predicts the target varibale 68% of the time.\n",
        "\n",
        "2. The model is performing well overall, with very few misclassifications. However, there are still some errors between classes, especially between Class0 and Class2.\n",
        "\n",
        "3. A precision of 0.67 suggests that 67% of the time, the model's positive predictions were correct.\n",
        "\n",
        "4. A recall of 0.68 means that 68% of the actual posiitves were identified correclty.\n",
        "\n",
        "5. A F1-score of 0.65 suggests decent balance between precision and recall."
      ],
      "metadata": {
        "id": "U07raU3_1Xao"
      }
    },
    {
      "cell_type": "markdown",
      "source": [
        "#Conclusion"
      ],
      "metadata": {
        "id": "2Tf2oDwGy5HU"
      }
    },
    {
      "cell_type": "markdown",
      "source": [
        "#Impacts of Cross-Validation and Feature Selection on KNN"
      ],
      "metadata": {
        "id": "MgAv2bJPmvlj"
      }
    },
    {
      "cell_type": "markdown",
      "source": [
        "After optimization, all evaluation metrics have improved. The improvements in the final KNN model suggest that cross-validation and feature selection have had a positive impact on performance by enhancing the model’s ability to generalize better and make more accurate predictions."
      ],
      "metadata": {
        "id": "SAbUhiMJvf0j"
      }
    },
    {
      "cell_type": "markdown",
      "source": [
        "#Impacts of  Feature Selection on Random Forest"
      ],
      "metadata": {
        "id": "3yXKsZvNwpyf"
      }
    },
    {
      "cell_type": "markdown",
      "source": [
        "After optimization, all evaluation metrics have improved. This  demonstrate that feature selection has positively impacted the Random Forest classifier by enhancing its predictive power and reducing errors."
      ],
      "metadata": {
        "id": "cN-OYHO8wsk9"
      }
    },
    {
      "cell_type": "markdown",
      "source": [
        "#Comparison of Final KNN and Random Forest Classifier Models"
      ],
      "metadata": {
        "id": "xBCAaZy7tUxb"
      }
    },
    {
      "cell_type": "markdown",
      "source": [
        "Both the KNN and Random Forest models achieve the same accuracy (0.68), precision (0.67), and recall (0.68). However, the KNN model has a slightly higher F1-score (0.66) compared to the Random Forest model (0.65).\n",
        "\n",
        "So, according to the results, KNN Model with hyperparameters: {'algorithm': 'auto', 'leaf_size': 20, 'n_neighbors': 5, 'p': 1, 'weights': 'uniform'} and features {'SystolicBP', 'BS'} performed better in Classification Task."
      ],
      "metadata": {
        "id": "vUYRiZHQtSWe"
      }
    },
    {
      "cell_type": "markdown",
      "source": [
        "#Insights and Future Directions of KNN model"
      ],
      "metadata": {
        "id": "QX1suB4Py0PX"
      }
    },
    {
      "cell_type": "markdown",
      "source": [
        "The KNN model's performance improved after applying optimal hyperparameters, cross-validation, and feature selection, leading to better accuracy, precision, recall, and F1-score. However, challenges remain in classifying the third class due to imbalances. Future directions include further tuning hyperparameters, handling class imbalance with resampling or class weights, exploring dimensionality reduction techniques, and evaluating the model using advanced metrics like ROC-AUC. Additionally, considering alternative algorithms such as SVMs or tree-based models and improving efficiency with approximate nearest neighbor techniques could further enhance the model's performance."
      ],
      "metadata": {
        "id": "9WKC1cENzVEb"
      }
    },
    {
      "cell_type": "markdown",
      "source": [
        "#Insights and Future Directions of Random Forest model"
      ],
      "metadata": {
        "id": "ZdGdjrTDzcuE"
      }
    },
    {
      "cell_type": "markdown",
      "source": [
        "The improvements seen after feature selection validate the effectiveness of refining the input data. However, further optimizations, hyperparameter tuning, and class imbalance handling can enhance the model even more. Future steps should focus on better feature engineering, fine-tuning, and potentially leveraging ensemble methods for even stronger predictions.\n",
        "\n",
        "\n",
        "\n",
        "\n",
        "\n",
        "\n",
        "\n"
      ],
      "metadata": {
        "id": "IkP1m3mtzf-L"
      }
    }
  ]
}