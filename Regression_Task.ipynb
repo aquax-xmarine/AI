{
  "nbformat": 4,
  "nbformat_minor": 0,
  "metadata": {
    "colab": {
      "provenance": [],
      "include_colab_link": true
    },
    "kernelspec": {
      "name": "python3",
      "display_name": "Python 3"
    },
    "language_info": {
      "name": "python"
    }
  },
  "cells": [
    {
      "cell_type": "markdown",
      "metadata": {
        "id": "view-in-github",
        "colab_type": "text"
      },
      "source": [
        "<a href=\"https://colab.research.google.com/github/aquax-xmarine/AI/blob/main/Regression_Task.ipynb\" target=\"_parent\"><img src=\"https://colab.research.google.com/assets/colab-badge.svg\" alt=\"Open In Colab\"/></a>"
      ]
    },
    {
      "cell_type": "markdown",
      "source": [
        "#1. Exploratory Data Analysis and Data Understanding"
      ],
      "metadata": {
        "id": "o9ixsoNU0HPh"
      }
    },
    {
      "cell_type": "markdown",
      "source": [
        "#Initial Analysis\n",
        "a. When and by whom was the dataset created?\n",
        "\n",
        "Ans: The dataset 'Maternal Health Risk' was created by Marzia Ahmed and her colleagues Mostafijur Rahman, Sabira Khatun, and Mohammod Abul Kashem for their research paper 'Review and Analysis of Risk Factor of Maternal Health in Remote Area Using the Internet of Things (IoT)' in March 2020.\n",
        "\n",
        "b. How did you access the dataset?\n",
        "\n",
        "Ans: The above dataset was accessed via Kaggle.\n",
        "\n",
        "c. How does it align with the chosen UNSDG?\n",
        "\n",
        "ANs: The dataset 'Maternal Health Risk' is closely aligned with the UNSDG3: Good Health and Well-being as it helps to prevent maternal mortality by detecting the symptoms beforehand.\n",
        "\n",
        "d. List all the attributes (columns) present in the dataset.\n",
        "\n",
        "Ans: Age, SystolicBP, DiastolicBP, BS, BodyTemp, HeartRate, and RiskLevel are the 7 attributes present in the dataset.  \n"
      ],
      "metadata": {
        "id": "3eF6Y_E-0JCg"
      }
    },
    {
      "cell_type": "markdown",
      "source": [
        "# Research Question\n",
        "How can we predict a woman’s systolic blood pressure based on other health parameters (age, diastolic blood pressure, blood sugar, body temperature, heart rate, and risk level)?"
      ],
      "metadata": {
        "id": "Mh36Kort0LyS"
      }
    },
    {
      "cell_type": "markdown",
      "source": [
        "#Data Completeness\n",
        "1. The dataset doesnot contain missing values making the utilization of data points effective.\n",
        "\n",
        "2. The dataset has above 1000 rows which is sufficient for this task.\n",
        "\n",
        "Limitation\n",
        "\n",
        "1. The dataset is found to have more than half duplicate rows whcih might reduce the model's effectiveness.\n",
        "\n",
        "2. RiskLevel is categorical (Low, Medium,and High) so it needs to be encoded."
      ],
      "metadata": {
        "id": "BzbFbUi205Tj"
      }
    },
    {
      "cell_type": "markdown",
      "source": [
        "#Data Relevance\n",
        "1. Age: Highly relevant, as systolic blood pressure tends to increase with age.\n",
        "2. DiastolicBP: Strongly correlated with systolic blood pressure; crucial for prediction.\n",
        "3. BS (Blood Sugar): May impact blood pressure, particularly in diabetic individuals.\n",
        "4. BodyTemp: Less directly related but could indicate an underlying condition.\n",
        "5. HeartRate: Physiologically linked to blood pressure.\n",
        "6. RiskLevel: If categorical, it might not be directly useful but could be transformed (e.g., ordinal encoding)."
      ],
      "metadata": {
        "id": "zHYUxzJ5hjy-"
      }
    },
    {
      "cell_type": "markdown",
      "source": [
        "#Data Quality\n",
        "1. The dataset comes from a published study, validating its origins.\n",
        "2. The numericals values appears to be well-structured and measurable."
      ],
      "metadata": {
        "id": "XPW7wx-Uh0lN"
      }
    },
    {
      "cell_type": "markdown",
      "source": [
        "#Exploratory Data Analysis (EDA)"
      ],
      "metadata": {
        "id": "r39iQuAjiPbh"
      }
    },
    {
      "cell_type": "code",
      "source": [
        "# load the dataset\n",
        "import pandas as pd\n",
        "df = pd.read_csv(\"/content/drive/MyDrive/AI_Assessment/Maternal Health Risk Data Set.csv\")"
      ],
      "metadata": {
        "id": "xSpfofCUiQtG"
      },
      "execution_count": null,
      "outputs": []
    },
    {
      "cell_type": "markdown",
      "source": [
        "# Data cleaning and summary statistics\n"
      ],
      "metadata": {
        "id": "BooQKdFWiheN"
      }
    },
    {
      "cell_type": "code",
      "source": [
        "# display basic information\n",
        "print(\"Dataset Info: \")\n",
        "print(df.info())"
      ],
      "metadata": {
        "colab": {
          "base_uri": "https://localhost:8080/"
        },
        "id": "6l8rLm0riVey",
        "outputId": "809fc6fc-d2a9-4eda-9dae-be0102fc8c89"
      },
      "execution_count": null,
      "outputs": [
        {
          "output_type": "stream",
          "name": "stdout",
          "text": [
            "Dataset Info: \n",
            "<class 'pandas.core.frame.DataFrame'>\n",
            "RangeIndex: 1014 entries, 0 to 1013\n",
            "Data columns (total 7 columns):\n",
            " #   Column       Non-Null Count  Dtype  \n",
            "---  ------       --------------  -----  \n",
            " 0   Age          1014 non-null   int64  \n",
            " 1   SystolicBP   1014 non-null   int64  \n",
            " 2   DiastolicBP  1014 non-null   int64  \n",
            " 3   BS           1014 non-null   float64\n",
            " 4   BodyTemp     1014 non-null   float64\n",
            " 5   HeartRate    1014 non-null   int64  \n",
            " 6   RiskLevel    1014 non-null   object \n",
            "dtypes: float64(2), int64(4), object(1)\n",
            "memory usage: 55.6+ KB\n",
            "None\n"
          ]
        }
      ]
    },
    {
      "cell_type": "code",
      "source": [
        "# Check for missing values\n",
        "print(\"Missing values: \")\n",
        "print(df.isnull().sum())"
      ],
      "metadata": {
        "colab": {
          "base_uri": "https://localhost:8080/"
        },
        "id": "Oj0M7SjnikWK",
        "outputId": "278943f2-928b-4d65-8415-a5bf72256662"
      },
      "execution_count": null,
      "outputs": [
        {
          "output_type": "stream",
          "name": "stdout",
          "text": [
            "Missing values: \n",
            "Age            0\n",
            "SystolicBP     0\n",
            "DiastolicBP    0\n",
            "BS             0\n",
            "BodyTemp       0\n",
            "HeartRate      0\n",
            "RiskLevel      0\n",
            "dtype: int64\n"
          ]
        }
      ]
    },
    {
      "cell_type": "code",
      "source": [
        "# Check for duplicate rows\n",
        "print(\"Duplicated Rows: \", df.duplicated().sum())\n",
        "df[df.duplicated(keep='first')]\n"
      ],
      "metadata": {
        "colab": {
          "base_uri": "https://localhost:8080/",
          "height": 441
        },
        "id": "uN-XEXM8imcY",
        "outputId": "6dfaf941-0911-49da-e14e-d63a034d5d41"
      },
      "execution_count": null,
      "outputs": [
        {
          "output_type": "stream",
          "name": "stdout",
          "text": [
            "Duplicated Rows:  562\n"
          ]
        },
        {
          "output_type": "execute_result",
          "data": {
            "text/plain": [
              "      Age  SystolicBP  DiastolicBP    BS  BodyTemp  HeartRate  RiskLevel\n",
              "67     19         120           80   7.0      98.0         70   mid risk\n",
              "72     19         120           80   7.0      98.0         70   mid risk\n",
              "97     19         120           80   7.0      98.0         70   mid risk\n",
              "106    50         140           90  15.0      98.0         90  high risk\n",
              "107    25         140          100   6.8      98.0         80  high risk\n",
              "...   ...         ...          ...   ...       ...        ...        ...\n",
              "1009   22         120           60  15.0      98.0         80  high risk\n",
              "1010   55         120           90  18.0      98.0         60  high risk\n",
              "1011   35          85           60  19.0      98.0         86  high risk\n",
              "1012   43         120           90  18.0      98.0         70  high risk\n",
              "1013   32         120           65   6.0     101.0         76   mid risk\n",
              "\n",
              "[562 rows x 7 columns]"
            ],
            "text/html": [
              "\n",
              "  <div id=\"df-6b2d869e-5cbf-4b1b-945f-ee1aad53ac9c\" class=\"colab-df-container\">\n",
              "    <div>\n",
              "<style scoped>\n",
              "    .dataframe tbody tr th:only-of-type {\n",
              "        vertical-align: middle;\n",
              "    }\n",
              "\n",
              "    .dataframe tbody tr th {\n",
              "        vertical-align: top;\n",
              "    }\n",
              "\n",
              "    .dataframe thead th {\n",
              "        text-align: right;\n",
              "    }\n",
              "</style>\n",
              "<table border=\"1\" class=\"dataframe\">\n",
              "  <thead>\n",
              "    <tr style=\"text-align: right;\">\n",
              "      <th></th>\n",
              "      <th>Age</th>\n",
              "      <th>SystolicBP</th>\n",
              "      <th>DiastolicBP</th>\n",
              "      <th>BS</th>\n",
              "      <th>BodyTemp</th>\n",
              "      <th>HeartRate</th>\n",
              "      <th>RiskLevel</th>\n",
              "    </tr>\n",
              "  </thead>\n",
              "  <tbody>\n",
              "    <tr>\n",
              "      <th>67</th>\n",
              "      <td>19</td>\n",
              "      <td>120</td>\n",
              "      <td>80</td>\n",
              "      <td>7.0</td>\n",
              "      <td>98.0</td>\n",
              "      <td>70</td>\n",
              "      <td>mid risk</td>\n",
              "    </tr>\n",
              "    <tr>\n",
              "      <th>72</th>\n",
              "      <td>19</td>\n",
              "      <td>120</td>\n",
              "      <td>80</td>\n",
              "      <td>7.0</td>\n",
              "      <td>98.0</td>\n",
              "      <td>70</td>\n",
              "      <td>mid risk</td>\n",
              "    </tr>\n",
              "    <tr>\n",
              "      <th>97</th>\n",
              "      <td>19</td>\n",
              "      <td>120</td>\n",
              "      <td>80</td>\n",
              "      <td>7.0</td>\n",
              "      <td>98.0</td>\n",
              "      <td>70</td>\n",
              "      <td>mid risk</td>\n",
              "    </tr>\n",
              "    <tr>\n",
              "      <th>106</th>\n",
              "      <td>50</td>\n",
              "      <td>140</td>\n",
              "      <td>90</td>\n",
              "      <td>15.0</td>\n",
              "      <td>98.0</td>\n",
              "      <td>90</td>\n",
              "      <td>high risk</td>\n",
              "    </tr>\n",
              "    <tr>\n",
              "      <th>107</th>\n",
              "      <td>25</td>\n",
              "      <td>140</td>\n",
              "      <td>100</td>\n",
              "      <td>6.8</td>\n",
              "      <td>98.0</td>\n",
              "      <td>80</td>\n",
              "      <td>high risk</td>\n",
              "    </tr>\n",
              "    <tr>\n",
              "      <th>...</th>\n",
              "      <td>...</td>\n",
              "      <td>...</td>\n",
              "      <td>...</td>\n",
              "      <td>...</td>\n",
              "      <td>...</td>\n",
              "      <td>...</td>\n",
              "      <td>...</td>\n",
              "    </tr>\n",
              "    <tr>\n",
              "      <th>1009</th>\n",
              "      <td>22</td>\n",
              "      <td>120</td>\n",
              "      <td>60</td>\n",
              "      <td>15.0</td>\n",
              "      <td>98.0</td>\n",
              "      <td>80</td>\n",
              "      <td>high risk</td>\n",
              "    </tr>\n",
              "    <tr>\n",
              "      <th>1010</th>\n",
              "      <td>55</td>\n",
              "      <td>120</td>\n",
              "      <td>90</td>\n",
              "      <td>18.0</td>\n",
              "      <td>98.0</td>\n",
              "      <td>60</td>\n",
              "      <td>high risk</td>\n",
              "    </tr>\n",
              "    <tr>\n",
              "      <th>1011</th>\n",
              "      <td>35</td>\n",
              "      <td>85</td>\n",
              "      <td>60</td>\n",
              "      <td>19.0</td>\n",
              "      <td>98.0</td>\n",
              "      <td>86</td>\n",
              "      <td>high risk</td>\n",
              "    </tr>\n",
              "    <tr>\n",
              "      <th>1012</th>\n",
              "      <td>43</td>\n",
              "      <td>120</td>\n",
              "      <td>90</td>\n",
              "      <td>18.0</td>\n",
              "      <td>98.0</td>\n",
              "      <td>70</td>\n",
              "      <td>high risk</td>\n",
              "    </tr>\n",
              "    <tr>\n",
              "      <th>1013</th>\n",
              "      <td>32</td>\n",
              "      <td>120</td>\n",
              "      <td>65</td>\n",
              "      <td>6.0</td>\n",
              "      <td>101.0</td>\n",
              "      <td>76</td>\n",
              "      <td>mid risk</td>\n",
              "    </tr>\n",
              "  </tbody>\n",
              "</table>\n",
              "<p>562 rows × 7 columns</p>\n",
              "</div>\n",
              "    <div class=\"colab-df-buttons\">\n",
              "\n",
              "  <div class=\"colab-df-container\">\n",
              "    <button class=\"colab-df-convert\" onclick=\"convertToInteractive('df-6b2d869e-5cbf-4b1b-945f-ee1aad53ac9c')\"\n",
              "            title=\"Convert this dataframe to an interactive table.\"\n",
              "            style=\"display:none;\">\n",
              "\n",
              "  <svg xmlns=\"http://www.w3.org/2000/svg\" height=\"24px\" viewBox=\"0 -960 960 960\">\n",
              "    <path d=\"M120-120v-720h720v720H120Zm60-500h600v-160H180v160Zm220 220h160v-160H400v160Zm0 220h160v-160H400v160ZM180-400h160v-160H180v160Zm440 0h160v-160H620v160ZM180-180h160v-160H180v160Zm440 0h160v-160H620v160Z\"/>\n",
              "  </svg>\n",
              "    </button>\n",
              "\n",
              "  <style>\n",
              "    .colab-df-container {\n",
              "      display:flex;\n",
              "      gap: 12px;\n",
              "    }\n",
              "\n",
              "    .colab-df-convert {\n",
              "      background-color: #E8F0FE;\n",
              "      border: none;\n",
              "      border-radius: 50%;\n",
              "      cursor: pointer;\n",
              "      display: none;\n",
              "      fill: #1967D2;\n",
              "      height: 32px;\n",
              "      padding: 0 0 0 0;\n",
              "      width: 32px;\n",
              "    }\n",
              "\n",
              "    .colab-df-convert:hover {\n",
              "      background-color: #E2EBFA;\n",
              "      box-shadow: 0px 1px 2px rgba(60, 64, 67, 0.3), 0px 1px 3px 1px rgba(60, 64, 67, 0.15);\n",
              "      fill: #174EA6;\n",
              "    }\n",
              "\n",
              "    .colab-df-buttons div {\n",
              "      margin-bottom: 4px;\n",
              "    }\n",
              "\n",
              "    [theme=dark] .colab-df-convert {\n",
              "      background-color: #3B4455;\n",
              "      fill: #D2E3FC;\n",
              "    }\n",
              "\n",
              "    [theme=dark] .colab-df-convert:hover {\n",
              "      background-color: #434B5C;\n",
              "      box-shadow: 0px 1px 3px 1px rgba(0, 0, 0, 0.15);\n",
              "      filter: drop-shadow(0px 1px 2px rgba(0, 0, 0, 0.3));\n",
              "      fill: #FFFFFF;\n",
              "    }\n",
              "  </style>\n",
              "\n",
              "    <script>\n",
              "      const buttonEl =\n",
              "        document.querySelector('#df-6b2d869e-5cbf-4b1b-945f-ee1aad53ac9c button.colab-df-convert');\n",
              "      buttonEl.style.display =\n",
              "        google.colab.kernel.accessAllowed ? 'block' : 'none';\n",
              "\n",
              "      async function convertToInteractive(key) {\n",
              "        const element = document.querySelector('#df-6b2d869e-5cbf-4b1b-945f-ee1aad53ac9c');\n",
              "        const dataTable =\n",
              "          await google.colab.kernel.invokeFunction('convertToInteractive',\n",
              "                                                    [key], {});\n",
              "        if (!dataTable) return;\n",
              "\n",
              "        const docLinkHtml = 'Like what you see? Visit the ' +\n",
              "          '<a target=\"_blank\" href=https://colab.research.google.com/notebooks/data_table.ipynb>data table notebook</a>'\n",
              "          + ' to learn more about interactive tables.';\n",
              "        element.innerHTML = '';\n",
              "        dataTable['output_type'] = 'display_data';\n",
              "        await google.colab.output.renderOutput(dataTable, element);\n",
              "        const docLink = document.createElement('div');\n",
              "        docLink.innerHTML = docLinkHtml;\n",
              "        element.appendChild(docLink);\n",
              "      }\n",
              "    </script>\n",
              "  </div>\n",
              "\n",
              "\n",
              "<div id=\"df-2768618b-a3f2-4163-9c09-ad4d15a32c16\">\n",
              "  <button class=\"colab-df-quickchart\" onclick=\"quickchart('df-2768618b-a3f2-4163-9c09-ad4d15a32c16')\"\n",
              "            title=\"Suggest charts\"\n",
              "            style=\"display:none;\">\n",
              "\n",
              "<svg xmlns=\"http://www.w3.org/2000/svg\" height=\"24px\"viewBox=\"0 0 24 24\"\n",
              "     width=\"24px\">\n",
              "    <g>\n",
              "        <path d=\"M19 3H5c-1.1 0-2 .9-2 2v14c0 1.1.9 2 2 2h14c1.1 0 2-.9 2-2V5c0-1.1-.9-2-2-2zM9 17H7v-7h2v7zm4 0h-2V7h2v10zm4 0h-2v-4h2v4z\"/>\n",
              "    </g>\n",
              "</svg>\n",
              "  </button>\n",
              "\n",
              "<style>\n",
              "  .colab-df-quickchart {\n",
              "      --bg-color: #E8F0FE;\n",
              "      --fill-color: #1967D2;\n",
              "      --hover-bg-color: #E2EBFA;\n",
              "      --hover-fill-color: #174EA6;\n",
              "      --disabled-fill-color: #AAA;\n",
              "      --disabled-bg-color: #DDD;\n",
              "  }\n",
              "\n",
              "  [theme=dark] .colab-df-quickchart {\n",
              "      --bg-color: #3B4455;\n",
              "      --fill-color: #D2E3FC;\n",
              "      --hover-bg-color: #434B5C;\n",
              "      --hover-fill-color: #FFFFFF;\n",
              "      --disabled-bg-color: #3B4455;\n",
              "      --disabled-fill-color: #666;\n",
              "  }\n",
              "\n",
              "  .colab-df-quickchart {\n",
              "    background-color: var(--bg-color);\n",
              "    border: none;\n",
              "    border-radius: 50%;\n",
              "    cursor: pointer;\n",
              "    display: none;\n",
              "    fill: var(--fill-color);\n",
              "    height: 32px;\n",
              "    padding: 0;\n",
              "    width: 32px;\n",
              "  }\n",
              "\n",
              "  .colab-df-quickchart:hover {\n",
              "    background-color: var(--hover-bg-color);\n",
              "    box-shadow: 0 1px 2px rgba(60, 64, 67, 0.3), 0 1px 3px 1px rgba(60, 64, 67, 0.15);\n",
              "    fill: var(--button-hover-fill-color);\n",
              "  }\n",
              "\n",
              "  .colab-df-quickchart-complete:disabled,\n",
              "  .colab-df-quickchart-complete:disabled:hover {\n",
              "    background-color: var(--disabled-bg-color);\n",
              "    fill: var(--disabled-fill-color);\n",
              "    box-shadow: none;\n",
              "  }\n",
              "\n",
              "  .colab-df-spinner {\n",
              "    border: 2px solid var(--fill-color);\n",
              "    border-color: transparent;\n",
              "    border-bottom-color: var(--fill-color);\n",
              "    animation:\n",
              "      spin 1s steps(1) infinite;\n",
              "  }\n",
              "\n",
              "  @keyframes spin {\n",
              "    0% {\n",
              "      border-color: transparent;\n",
              "      border-bottom-color: var(--fill-color);\n",
              "      border-left-color: var(--fill-color);\n",
              "    }\n",
              "    20% {\n",
              "      border-color: transparent;\n",
              "      border-left-color: var(--fill-color);\n",
              "      border-top-color: var(--fill-color);\n",
              "    }\n",
              "    30% {\n",
              "      border-color: transparent;\n",
              "      border-left-color: var(--fill-color);\n",
              "      border-top-color: var(--fill-color);\n",
              "      border-right-color: var(--fill-color);\n",
              "    }\n",
              "    40% {\n",
              "      border-color: transparent;\n",
              "      border-right-color: var(--fill-color);\n",
              "      border-top-color: var(--fill-color);\n",
              "    }\n",
              "    60% {\n",
              "      border-color: transparent;\n",
              "      border-right-color: var(--fill-color);\n",
              "    }\n",
              "    80% {\n",
              "      border-color: transparent;\n",
              "      border-right-color: var(--fill-color);\n",
              "      border-bottom-color: var(--fill-color);\n",
              "    }\n",
              "    90% {\n",
              "      border-color: transparent;\n",
              "      border-bottom-color: var(--fill-color);\n",
              "    }\n",
              "  }\n",
              "</style>\n",
              "\n",
              "  <script>\n",
              "    async function quickchart(key) {\n",
              "      const quickchartButtonEl =\n",
              "        document.querySelector('#' + key + ' button');\n",
              "      quickchartButtonEl.disabled = true;  // To prevent multiple clicks.\n",
              "      quickchartButtonEl.classList.add('colab-df-spinner');\n",
              "      try {\n",
              "        const charts = await google.colab.kernel.invokeFunction(\n",
              "            'suggestCharts', [key], {});\n",
              "      } catch (error) {\n",
              "        console.error('Error during call to suggestCharts:', error);\n",
              "      }\n",
              "      quickchartButtonEl.classList.remove('colab-df-spinner');\n",
              "      quickchartButtonEl.classList.add('colab-df-quickchart-complete');\n",
              "    }\n",
              "    (() => {\n",
              "      let quickchartButtonEl =\n",
              "        document.querySelector('#df-2768618b-a3f2-4163-9c09-ad4d15a32c16 button');\n",
              "      quickchartButtonEl.style.display =\n",
              "        google.colab.kernel.accessAllowed ? 'block' : 'none';\n",
              "    })();\n",
              "  </script>\n",
              "</div>\n",
              "\n",
              "    </div>\n",
              "  </div>\n"
            ],
            "application/vnd.google.colaboratory.intrinsic+json": {
              "type": "dataframe",
              "summary": "{\n  \"name\": \"df[df\",\n  \"rows\": 562,\n  \"fields\": [\n    {\n      \"column\": \"Age\",\n      \"properties\": {\n        \"dtype\": \"number\",\n        \"std\": 13,\n        \"min\": 10,\n        \"max\": 63,\n        \"num_unique_values\": 42,\n        \"samples\": [\n          17,\n          22,\n          54\n        ],\n        \"semantic_type\": \"\",\n        \"description\": \"\"\n      }\n    },\n    {\n      \"column\": \"SystolicBP\",\n      \"properties\": {\n        \"dtype\": \"number\",\n        \"std\": 18,\n        \"min\": 70,\n        \"max\": 160,\n        \"num_unique_values\": 18,\n        \"samples\": [\n          120,\n          140,\n          76\n        ],\n        \"semantic_type\": \"\",\n        \"description\": \"\"\n      }\n    },\n    {\n      \"column\": \"DiastolicBP\",\n      \"properties\": {\n        \"dtype\": \"number\",\n        \"std\": 13,\n        \"min\": 49,\n        \"max\": 100,\n        \"num_unique_values\": 14,\n        \"samples\": [\n          50,\n          76,\n          80\n        ],\n        \"semantic_type\": \"\",\n        \"description\": \"\"\n      }\n    },\n    {\n      \"column\": \"BS\",\n      \"properties\": {\n        \"dtype\": \"number\",\n        \"std\": 3.597564189703253,\n        \"min\": 6.0,\n        \"max\": 19.0,\n        \"num_unique_values\": 27,\n        \"samples\": [\n          7.2,\n          6.7,\n          7.1\n        ],\n        \"semantic_type\": \"\",\n        \"description\": \"\"\n      }\n    },\n    {\n      \"column\": \"BodyTemp\",\n      \"properties\": {\n        \"dtype\": \"number\",\n        \"std\": 1.3396183881701036,\n        \"min\": 98.0,\n        \"max\": 103.0,\n        \"num_unique_values\": 7,\n        \"samples\": [\n          98.0,\n          102.0,\n          99.0\n        ],\n        \"semantic_type\": \"\",\n        \"description\": \"\"\n      }\n    },\n    {\n      \"column\": \"HeartRate\",\n      \"properties\": {\n        \"dtype\": \"number\",\n        \"std\": 8,\n        \"min\": 7,\n        \"max\": 90,\n        \"num_unique_values\": 16,\n        \"samples\": [\n          70,\n          90,\n          77\n        ],\n        \"semantic_type\": \"\",\n        \"description\": \"\"\n      }\n    },\n    {\n      \"column\": \"RiskLevel\",\n      \"properties\": {\n        \"dtype\": \"category\",\n        \"num_unique_values\": 3,\n        \"samples\": [\n          \"mid risk\",\n          \"high risk\",\n          \"low risk\"\n        ],\n        \"semantic_type\": \"\",\n        \"description\": \"\"\n      }\n    }\n  ]\n}"
            }
          },
          "metadata": {},
          "execution_count": 4
        }
      ]
    },
    {
      "cell_type": "code",
      "source": [
        "# Remove duplicates(keep only one instance of each unique row)\n",
        "df.drop_duplicates(inplace=True)\n",
        "print(\"Duplicated Rows: \", df.duplicated().sum())\n",
        "df[df.duplicated(keep='first')]"
      ],
      "metadata": {
        "colab": {
          "base_uri": "https://localhost:8080/",
          "height": 70
        },
        "id": "8epaA_byioj5",
        "outputId": "048b4ccf-44b9-4a9c-9e18-dff8991f0cf8"
      },
      "execution_count": null,
      "outputs": [
        {
          "output_type": "stream",
          "name": "stdout",
          "text": [
            "Duplicated Rows:  0\n"
          ]
        },
        {
          "output_type": "execute_result",
          "data": {
            "text/plain": [
              "Empty DataFrame\n",
              "Columns: [Age, SystolicBP, DiastolicBP, BS, BodyTemp, HeartRate, RiskLevel]\n",
              "Index: []"
            ],
            "text/html": [
              "\n",
              "  <div id=\"df-d7b1734b-f1b3-4646-b3d4-594921fabee5\" class=\"colab-df-container\">\n",
              "    <div>\n",
              "<style scoped>\n",
              "    .dataframe tbody tr th:only-of-type {\n",
              "        vertical-align: middle;\n",
              "    }\n",
              "\n",
              "    .dataframe tbody tr th {\n",
              "        vertical-align: top;\n",
              "    }\n",
              "\n",
              "    .dataframe thead th {\n",
              "        text-align: right;\n",
              "    }\n",
              "</style>\n",
              "<table border=\"1\" class=\"dataframe\">\n",
              "  <thead>\n",
              "    <tr style=\"text-align: right;\">\n",
              "      <th></th>\n",
              "      <th>Age</th>\n",
              "      <th>SystolicBP</th>\n",
              "      <th>DiastolicBP</th>\n",
              "      <th>BS</th>\n",
              "      <th>BodyTemp</th>\n",
              "      <th>HeartRate</th>\n",
              "      <th>RiskLevel</th>\n",
              "    </tr>\n",
              "  </thead>\n",
              "  <tbody>\n",
              "  </tbody>\n",
              "</table>\n",
              "</div>\n",
              "    <div class=\"colab-df-buttons\">\n",
              "\n",
              "  <div class=\"colab-df-container\">\n",
              "    <button class=\"colab-df-convert\" onclick=\"convertToInteractive('df-d7b1734b-f1b3-4646-b3d4-594921fabee5')\"\n",
              "            title=\"Convert this dataframe to an interactive table.\"\n",
              "            style=\"display:none;\">\n",
              "\n",
              "  <svg xmlns=\"http://www.w3.org/2000/svg\" height=\"24px\" viewBox=\"0 -960 960 960\">\n",
              "    <path d=\"M120-120v-720h720v720H120Zm60-500h600v-160H180v160Zm220 220h160v-160H400v160Zm0 220h160v-160H400v160ZM180-400h160v-160H180v160Zm440 0h160v-160H620v160ZM180-180h160v-160H180v160Zm440 0h160v-160H620v160Z\"/>\n",
              "  </svg>\n",
              "    </button>\n",
              "\n",
              "  <style>\n",
              "    .colab-df-container {\n",
              "      display:flex;\n",
              "      gap: 12px;\n",
              "    }\n",
              "\n",
              "    .colab-df-convert {\n",
              "      background-color: #E8F0FE;\n",
              "      border: none;\n",
              "      border-radius: 50%;\n",
              "      cursor: pointer;\n",
              "      display: none;\n",
              "      fill: #1967D2;\n",
              "      height: 32px;\n",
              "      padding: 0 0 0 0;\n",
              "      width: 32px;\n",
              "    }\n",
              "\n",
              "    .colab-df-convert:hover {\n",
              "      background-color: #E2EBFA;\n",
              "      box-shadow: 0px 1px 2px rgba(60, 64, 67, 0.3), 0px 1px 3px 1px rgba(60, 64, 67, 0.15);\n",
              "      fill: #174EA6;\n",
              "    }\n",
              "\n",
              "    .colab-df-buttons div {\n",
              "      margin-bottom: 4px;\n",
              "    }\n",
              "\n",
              "    [theme=dark] .colab-df-convert {\n",
              "      background-color: #3B4455;\n",
              "      fill: #D2E3FC;\n",
              "    }\n",
              "\n",
              "    [theme=dark] .colab-df-convert:hover {\n",
              "      background-color: #434B5C;\n",
              "      box-shadow: 0px 1px 3px 1px rgba(0, 0, 0, 0.15);\n",
              "      filter: drop-shadow(0px 1px 2px rgba(0, 0, 0, 0.3));\n",
              "      fill: #FFFFFF;\n",
              "    }\n",
              "  </style>\n",
              "\n",
              "    <script>\n",
              "      const buttonEl =\n",
              "        document.querySelector('#df-d7b1734b-f1b3-4646-b3d4-594921fabee5 button.colab-df-convert');\n",
              "      buttonEl.style.display =\n",
              "        google.colab.kernel.accessAllowed ? 'block' : 'none';\n",
              "\n",
              "      async function convertToInteractive(key) {\n",
              "        const element = document.querySelector('#df-d7b1734b-f1b3-4646-b3d4-594921fabee5');\n",
              "        const dataTable =\n",
              "          await google.colab.kernel.invokeFunction('convertToInteractive',\n",
              "                                                    [key], {});\n",
              "        if (!dataTable) return;\n",
              "\n",
              "        const docLinkHtml = 'Like what you see? Visit the ' +\n",
              "          '<a target=\"_blank\" href=https://colab.research.google.com/notebooks/data_table.ipynb>data table notebook</a>'\n",
              "          + ' to learn more about interactive tables.';\n",
              "        element.innerHTML = '';\n",
              "        dataTable['output_type'] = 'display_data';\n",
              "        await google.colab.output.renderOutput(dataTable, element);\n",
              "        const docLink = document.createElement('div');\n",
              "        docLink.innerHTML = docLinkHtml;\n",
              "        element.appendChild(docLink);\n",
              "      }\n",
              "    </script>\n",
              "  </div>\n",
              "\n",
              "\n",
              "    </div>\n",
              "  </div>\n"
            ],
            "application/vnd.google.colaboratory.intrinsic+json": {
              "type": "dataframe",
              "repr_error": "Out of range float values are not JSON compliant: nan"
            }
          },
          "metadata": {},
          "execution_count": 5
        }
      ]
    },
    {
      "cell_type": "code",
      "source": [
        "print(\"Total rows after removing duplicates:\", df.shape[0])"
      ],
      "metadata": {
        "colab": {
          "base_uri": "https://localhost:8080/"
        },
        "id": "qe2gfU6cir1t",
        "outputId": "f2807596-47e9-4ffb-9b07-8c4d2f31ee2c"
      },
      "execution_count": null,
      "outputs": [
        {
          "output_type": "stream",
          "name": "stdout",
          "text": [
            "Total rows after removing duplicates: 452\n"
          ]
        }
      ]
    },
    {
      "cell_type": "code",
      "source": [
        "# Compute summary statistics\n",
        "print(\"Summary Statistics: \")\n",
        "print(df.describe())"
      ],
      "metadata": {
        "colab": {
          "base_uri": "https://localhost:8080/"
        },
        "id": "88rH3UKviulv",
        "outputId": "890394c4-45cd-4b4a-ac8d-d78b7866ae25"
      },
      "execution_count": null,
      "outputs": [
        {
          "output_type": "stream",
          "name": "stdout",
          "text": [
            "Summary Statistics: \n",
            "              Age  SystolicBP  DiastolicBP          BS    BodyTemp   HeartRate\n",
            "count  452.000000  452.000000   452.000000  452.000000  452.000000  452.000000\n",
            "mean    29.194690  110.553097    75.418142    8.346173   98.692478   73.949115\n",
            "std     13.767379   17.872282    13.754578    2.829209    1.410897    8.156973\n",
            "min     10.000000   70.000000    49.000000    6.000000   98.000000    7.000000\n",
            "25%     19.000000   90.000000    65.000000    6.900000   98.000000   70.000000\n",
            "50%     25.000000  120.000000    80.000000    7.500000   98.000000   76.000000\n",
            "75%     35.000000  120.000000    86.000000    7.900000   98.000000   80.000000\n",
            "max     70.000000  160.000000   100.000000   19.000000  103.000000   90.000000\n"
          ]
        }
      ]
    },
    {
      "cell_type": "code",
      "source": [
        "# Display the first few rows\n",
        "print(\"First 5 rows: \")\n",
        "print(df.head())"
      ],
      "metadata": {
        "colab": {
          "base_uri": "https://localhost:8080/"
        },
        "id": "r9gVG_HLi00-",
        "outputId": "20e2cd3a-3927-4290-93cf-7f730c34fd42"
      },
      "execution_count": null,
      "outputs": [
        {
          "output_type": "stream",
          "name": "stdout",
          "text": [
            "First 5 rows: \n",
            "   Age  SystolicBP  DiastolicBP    BS  BodyTemp  HeartRate  RiskLevel\n",
            "0   25         130           80  15.0      98.0         86  high risk\n",
            "1   35         140           90  13.0      98.0         70  high risk\n",
            "2   29          90           70   8.0     100.0         80  high risk\n",
            "3   30         140           85   7.0      98.0         70  high risk\n",
            "4   35         120           60   6.1      98.0         76   low risk\n"
          ]
        }
      ]
    },
    {
      "cell_type": "markdown",
      "source": [
        "#Data Visualization\n"
      ],
      "metadata": {
        "id": "P9xxy1fli6Aa"
      }
    },
    {
      "cell_type": "code",
      "source": [
        "import pandas as pd\n",
        "import numpy as np\n",
        "import seaborn as sns\n",
        "import matplotlib.pyplot as plt\n",
        "\n",
        "sns.set_theme(style=\"whitegrid\")\n"
      ],
      "metadata": {
        "id": "ZMf9OUm1i3UJ"
      },
      "execution_count": null,
      "outputs": []
    },
    {
      "cell_type": "code",
      "source": [
        "# Histogram of SystolicBP\n",
        "plt.figure(figsize=(12, 5))\n",
        "plt.subplot(1, 2, 1)\n",
        "sns.histplot(df[\"SystolicBP\"], bins=20, kde=True, color=\"blue\")\n",
        "plt.title(\"Distribution of SystolicBP\")\n",
        "plt.xlabel(\"Systolic Blood Pressure\")\n",
        "plt.ylabel(\"Frequency\")"
      ],
      "metadata": {
        "colab": {
          "base_uri": "https://localhost:8080/",
          "height": 513
        },
        "id": "WSQvo8WujcQM",
        "outputId": "41f523e9-ece6-4a25-c557-2404a19fb5ab"
      },
      "execution_count": null,
      "outputs": [
        {
          "output_type": "execute_result",
          "data": {
            "text/plain": [
              "Text(0, 0.5, 'Frequency')"
            ]
          },
          "metadata": {},
          "execution_count": 30
        },
        {
          "output_type": "display_data",
          "data": {
            "text/plain": [
              "<Figure size 1200x500 with 1 Axes>"
            ],
            "image/png": "[encoded data removed]"
          },
          "metadata": {}
        }
      ]
    },
    {
      "cell_type": "markdown",
      "source": [
        "The above histogram demonstrates a bell-shaped curve which means SystolicBP follows a normal distribution. Hence, it is suitable for linear regression."
      ],
      "metadata": {
        "id": "UHe8aUX2kXKb"
      }
    },
    {
      "cell_type": "code",
      "source": [
        "#Boxplot of SystolicBP\n",
        "plt.figure(figsize=(6, 4))\n",
        "plt.subplot(1, 2, 2)\n",
        "box = sns.boxplot(x=df[\"SystolicBP\"], color=\"red\", linewidth=2)\n",
        "\n",
        "median_value = df[\"SystolicBP\"].median()\n",
        "plt.axvline(median_value, color=\"black\", linestyle=\"--\", label=\"Median\")  # Dashed median line\n",
        "plt.legend()\n",
        "\n",
        "plt.xlabel(\"Systolic Blood Pressure\")\n",
        "plt.title(\"Boxplot of SystolicBP\")\n",
        "\n",
        "plt.show()\n"
      ],
      "metadata": {
        "colab": {
          "base_uri": "https://localhost:8080/",
          "height": 419
        },
        "id": "avxMFJuElOlW",
        "outputId": "70e778b9-6a75-45e1-9d4c-37df0f26a003"
      },
      "execution_count": null,
      "outputs": [
        {
          "output_type": "display_data",
          "data": {
            "text/plain": [
              "<Figure size 600x400 with 1 Axes>"
            ],
            "image/png": "[encoded data removed]"
          },
          "metadata": {}
        }
      ]
    },
    {
      "cell_type": "markdown",
      "source": [
        "In the above box plot:\n",
        "\n",
        "1. Median: Black dashed lines represent the median which is around 125\n",
        "2. IQR: The red box represents the IQR which includes the middle 50% of the data. The lower boundary is around 90 while the upper boundary is around 130.\n",
        "3. Whiskers: It extends to approximately 65 and 165, indicating overall range of the data points, excluding outliers.\n",
        "4. Outliers: The plot doesnot display individuals dots beyond the whiskers, suggetsing no outliers.\n",
        "5. Symmetry and Distribution: The median is placed at the edge of Q3, indicating left skewness."
      ],
      "metadata": {
        "id": "RJfCnQqsmzK8"
      }
    },
    {
      "cell_type": "code",
      "source": [
        "# Scatterplots (Key Predictors vs. SystolicBP)\n",
        "predictors = [\"Age\", \"DiastolicBP\", \"BS\", \"BodyTemp\", \"HeartRate\"]\n",
        "\n",
        "plt.figure(figsize=(15, 10))\n",
        "for i, feature in enumerate(predictors, 1):\n",
        "    plt.subplot(2, 3, i)\n",
        "    sns.scatterplot(x=df[feature], y=df[\"SystolicBP\"], alpha=0.7)\n",
        "    sns.regplot(x=df[feature], y=df[\"SystolicBP\"], scatter=False, color=\"red\")  # Regression line\n",
        "    plt.title(f\"{feature} vs SystolicBP\")\n",
        "\n",
        "plt.tight_layout()\n",
        "plt.show()"
      ],
      "metadata": {
        "colab": {
          "base_uri": "https://localhost:8080/",
          "height": 697
        },
        "id": "rYBPzUZkjrY_",
        "outputId": "fb5c1826-b483-4229-cbba-84c249200b26"
      },
      "execution_count": null,
      "outputs": [
        {
          "output_type": "display_data",
          "data": {
            "text/plain": [
              "<Figure size 1500x1000 with 5 Axes>"
            ],
            "image/png": "[encoded data removed]"
          },
          "metadata": {}
        }
      ]
    },
    {
      "cell_type": "markdown",
      "source": [
        "The figure contains 5 scatter plots, each examining the relationship between SystolicBP and a different avriable.\n",
        "\n",
        "1. Age Vs. SystolicBP: There is a positive trend, indicated by red regression line. However, there are some spread in the data, meaning not all points align perfectly with the trend.\n",
        "\n",
        "2. DiastolicBP Vs. SystolicBP: There is a strong positive relationship between DiastolicBP and SystolicBP, with the regression line showing a clear upward trend.\n",
        "\n",
        "3. BS Vs. SystolivBP: There is a positive trend, indicated by red regression line. Similarly, there is noticeable variablility in SystolicBP at similar BS levels.\n",
        "\n",
        "4. BodyTemp Vs. SystolicBP: There is a slight negative trend, inidcated by downward regression line. Similarly, the spread in data points indicates that this trend is weak.\n",
        "\n",
        "5. HeartRate Vs. SystolicBP: The regression line is flat, showing no relationship between the variables. Furthermore, there is considerable variability in SystolicBP across different HeartRate values."
      ],
      "metadata": {
        "id": "YDZ6aaVBpuLr"
      }
    },
    {
      "cell_type": "markdown",
      "source": [
        "#2. Build a Model from Scratch"
      ],
      "metadata": {
        "id": "TOkqeWNTr7qn"
      }
    },
    {
      "cell_type": "markdown",
      "source": [
        "#Linear Regression"
      ],
      "metadata": {
        "id": "x27iTi83r-qM"
      }
    },
    {
      "cell_type": "code",
      "source": [
        "# Define a function for train-test split from scratch\n",
        "def train_test_split_scratch(X, y, test_size=0.3, random_seed=42):\n",
        "    np.random.seed(random_seed)\n",
        "    indices = np.arange(X.shape[0])\n",
        "    np.random.shuffle(indices)  # Shuffle the indices\n",
        "\n",
        "    test_split_size = int(len(X) * test_size)\n",
        "    test_indices = indices[:test_split_size]\n",
        "    train_indices = indices[test_split_size:]\n",
        "\n",
        "    X_train = X[train_indices]\n",
        "    X_test = X[test_indices]\n",
        "    y_train = y[train_indices]\n",
        "    y_test = y[test_indices]\n",
        "\n",
        "    return X_train, X_test, y_train, y_test"
      ],
      "metadata": {
        "id": "efKvQuHtuPZZ"
      },
      "execution_count": null,
      "outputs": []
    },
    {
      "cell_type": "code",
      "source": [
        "#scale the feature matrix x\n",
        "def scale_features(x_train, x_test, y_train=None, y_test=None):\n",
        "  \"\"\"\n",
        "  scale features using Z-score normalization\n",
        "  Arguments:\n",
        "  x_train: np.ndarray; training data features\n",
        "  x_test: np.ndarray; testing data features\n",
        "  Returns:\n",
        "  x_train_scaled: np.ndarray; scaled training data\n",
        "  x_test_scaled: np.ndarray; scaled testing data\n",
        "  \"\"\"\n",
        "\n",
        "  mean = np.mean(x_train, axis=0)\n",
        "  std = np.std(x_train, axis=0)\n",
        "  x_train_scaled = (x_train - mean) / std\n",
        "  x_test_scaled = (x_test - mean) / std\n",
        "\n",
        "  if y_train is not None and y_test is not None:\n",
        "      mean_y = np.mean(y_train)\n",
        "      std_y = np.std(y_train)\n",
        "      y_train_scaled = (y_train - mean_y) / std_y\n",
        "      y_test_scaled = (y_test - mean_y) / std_y\n",
        "      return x_train_scaled, x_test_scaled, y_train_scaled, y_test_scaled\n",
        "  else:\n",
        "      return x_train_scaled, x_test_scaled\n",
        "\n"
      ],
      "metadata": {
        "id": "FkNYE27PwIPr"
      },
      "execution_count": null,
      "outputs": []
    },
    {
      "cell_type": "code",
      "source": [
        "#3.1.2-Building a cost function\n",
        "import numpy as np\n",
        "# define the cost function\n",
        "def cost_function(x, y, w, regularization_strength=0.01):\n",
        "  \"\"\"\n",
        "  Parameters:\n",
        "  This function finds the Mean Square Error\n",
        "  Input parameters:\n",
        "    x: Feature Matrix\n",
        "    y: Target Matrix\n",
        "    w: Weight Matrix\n",
        "  Output Parameters:\n",
        "    cost: accumulated mean square error\n",
        "  \"\"\"\n",
        "  # number of training examples\n",
        "  n = len(y)\n",
        "\n",
        "  # hypothesis: predicted values\n",
        "  y_pred = np.dot(x, w)\n",
        "\n",
        "  # comute the squared errors\n",
        "  squared_errors = np.square(y_pred - y)\n",
        "\n",
        "  # compute the mean squared error\n",
        "  cost = (1 / (2 * n)) * np.sum(squared_errors)\n",
        "\n",
        "  #add L2 regularization term to prevent overfitting\n",
        "  cost += regularization_strength * np.sum(w**2)\n",
        "\n",
        "  return cost"
      ],
      "metadata": {
        "id": "dBVp2NROxHXw"
      },
      "execution_count": null,
      "outputs": []
    },
    {
      "cell_type": "code",
      "source": [
        "def gradient_descent(x, y, w, alpha, iterations, momentum=0.9, regularization_strength=0.01, tolerance=1e-5):\n",
        "    \"\"\"\n",
        "    Perform gradient descent to optimize the parameters of a linear regression model.\n",
        "\n",
        "    Parameters:\n",
        "      x (numpy.ndarray): Feature matrix (m x n).\n",
        "      y (numpy.ndarray): Target vector (m x 1).\n",
        "      w (numpy.ndarray): Initial guess for parameters (n x 1).\n",
        "      alpha (float): Learning rate.\n",
        "      iterations (int): Number of iterations for gradient descent.\n",
        "\n",
        "    Returns:\n",
        "      tuple: A tuple containing the final optimized parameters (w) and the history of cost values (cost_history).\n",
        "    \"\"\"\n",
        "    # Initialize cost history\n",
        "    cost_history = [0] * iterations\n",
        "\n",
        "    # number of samples\n",
        "    m = len(y)\n",
        "    velocity = np.zeros_like(w)\n",
        "    prev_cost = float('inf')  # Store previous cost\n",
        "\n",
        "\n",
        "    for iteration in range(iterations):\n",
        "        # Hypothesis Values\n",
        "        y_pred = np.dot(x, w)  # predicted values\n",
        "\n",
        "        # Difference between Hypothesis and Actual y\n",
        "        loss = y_pred - y\n",
        "\n",
        "        # Gradient Calculation\n",
        "        dw = (1 / m) * np.dot(x.T, loss)  # gradient\n",
        "\n",
        "        #  Adding regularization to gradient\n",
        "        dw += regularization_strength * w\n",
        "\n",
        "        # Update weights using gradient with momentum\n",
        "        velocity = momentum * velocity + alpha * dw\n",
        "        w -= velocity\n",
        "\n",
        "        # New Cost Value\n",
        "        cost = cost_function(x, y, w)  # assuming cost_function is defined elsewhere\n",
        "        cost_history[iteration] = cost\n",
        "\n",
        "        # Check for convergence: stop if the cost change is small\n",
        "        if np.abs(prev_cost - cost) < tolerance:\n",
        "            print(f\"Converged at iteration {iteration+1}\")\n",
        "            break\n",
        "        prev_cost = cost\n",
        "\n",
        "    return w, cost_history\n"
      ],
      "metadata": {
        "id": "EzxaGVI1wKel"
      },
      "execution_count": null,
      "outputs": []
    },
    {
      "cell_type": "code",
      "source": [
        "#3.1.4 - Evaluate the Model\n",
        "#1.Root Mean Square Error\n",
        "\n",
        "# Model Evaluation - RMSE\n",
        "def rmse(y, y_pred):\n",
        "  \"\"\"\n",
        "  This function calculates the Root Mean Square.\n",
        "  Input Arguments:\n",
        "    y: array of actual (target) dependent variables\n",
        "    y_pred: array of predicted dependent variables\n",
        "  Output Arguments:\n",
        "    rmse: Root Mean Square Error\n",
        "  \"\"\"\n",
        "  # calculate the squared differences\n",
        "  squared_diff = (y - y_pred) ** 2\n",
        "\n",
        "  # calculate the mean squared error\n",
        "  mse = np.mean(squared_diff)\n",
        "\n",
        "  # return the square root of the mean squared error\n",
        "  rmse = np.sqrt(mse)\n",
        "  return rmse"
      ],
      "metadata": {
        "id": "vCoeFZkOxObE"
      },
      "execution_count": null,
      "outputs": []
    },
    {
      "cell_type": "code",
      "source": [
        "# Model Evaluation - R2\n",
        "def r2(y, y_pred):\n",
        "  \"\"\"\n",
        "  This function calculates the R2 Squared Error.\n",
        "  Input Arguments:\n",
        "    y: array of actual (target) dependent variables\n",
        "    y_pred: array of predicted dependent variables\n",
        "  Output Arguments:\n",
        "    rsquared: R squared error\n",
        "  \"\"\"\n",
        "  # mean of actual values\n",
        "  mean_y = np.mean(y)\n",
        "  # calculate SST (Total Sum of Squares)\n",
        "  ss_tot = np.sum((y - mean_y) ** 2)\n",
        "  # calculate SSR (Sum of Squared Residuals)\n",
        "  ss_res = np.sum((y - y_pred) ** 2)\n",
        "  # calculate R-squared\n",
        "  r2 = 1 - (ss_res / ss_tot)\n",
        "  return r2"
      ],
      "metadata": {
        "id": "h0cv1T5-xPa-"
      },
      "execution_count": null,
      "outputs": []
    },
    {
      "cell_type": "code",
      "source": [
        "# Main function to integrate all steps\n",
        "import pandas as pd\n",
        "import numpy as np\n",
        "def main():\n",
        "  # Load dataset\n",
        "  df = pd.read_csv(\"/content/drive/MyDrive/AI_Assessment/Maternal Health Risk Data Set.csv\")\n",
        "\n",
        "  # Remove duplicate rows\n",
        "  df.drop_duplicates(inplace=True)\n",
        "\n",
        "  # Apply one-hot encoding to the 'RiskLevel' column\n",
        "  df = pd.get_dummies(df, columns=['RiskLevel'], dtype=int)\n",
        "\n",
        "  # Reset index to avoid any index mismatch\n",
        "  df = df.reset_index(drop=True)\n",
        "\n",
        "  # Separate the feature matrix (X) and target variable (y)\n",
        "  X = df.drop('SystolicBP', axis=1)\n",
        "  y = df['SystolicBP']\n",
        "\n",
        "\n",
        "  # Convert to NumPy arrays (ONLY if still DataFrame)\n",
        "  if isinstance(X, pd.DataFrame):\n",
        "    X = X.to_numpy()\n",
        "  if isinstance(y, pd.DataFrame):\n",
        "    y = y.to_numpy()\n",
        "\n",
        "  # Split the data into training and test sets\n",
        "  X_train, X_test, y_train, y_test = train_test_split_scratch(X, y, test_size=0.3, random_seed=42)\n",
        "\n",
        "  # Scale the feature matrix and the target variable\n",
        "  X_train_scaled, X_test_scaled, y_train_scaled, y_test_scaled = scale_features(X_train, X_test, y_train, y_test)\n",
        "\n",
        "\n",
        "  # Initialize weights(W) to zeros, learning rate and number of iterations\n",
        "  W = np.zeros(X_train.shape[1]) #initialize weight\n",
        "  alpha = 0.01 # decreasing learning rate\n",
        "  iterations = 1000 #number of iterations for gradient descent\n",
        "\n",
        "  # Perform gradient descent\n",
        "  W_optimal, cost_history = gradient_descent(X_train_scaled, y_train_scaled, W, alpha, iterations)\n",
        "\n",
        "  # Make prediction on the test set\n",
        "  y_pred_scaled = np.dot(X_test_scaled, W_optimal)\n",
        "\n",
        "  # Inverse scaling of the predictions and test target\n",
        "  mean_y = np.mean(y_train)\n",
        "  std_y = np.std(y_train)\n",
        "  y_pred = y_pred_scaled * std_y + mean_y\n",
        "  y_test = y_test_scaled * std_y + mean_y\n",
        "\n",
        "  # Evaluate the model using RMSE and R-Squared\n",
        "  model_rmse = rmse(y_test, y_pred)\n",
        "  model_r2 = r2(y_test, y_pred)\n",
        "\n",
        "  # Output the results\n",
        "  print(f\"Final Weights: \", W_optimal)\n",
        "  print(\"Cost history (first 10 iterations): \", cost_history[:10])\n",
        "  print(\"RMSE on test set: \", model_rmse)\n",
        "  print(\"R-Squared on test set: \", model_r2)\n",
        "\n",
        "# Execute the main function\n",
        "if __name__ == \"__main__\":\n",
        "  main()\n"
      ],
      "metadata": {
        "id": "4l0qaS2usDXm",
        "colab": {
          "base_uri": "https://localhost:8080/"
        },
        "outputId": "a99ae1f6-398e-408c-bb73-f80a8191ca90"
      },
      "execution_count": null,
      "outputs": [
        {
          "output_type": "stream",
          "name": "stdout",
          "text": [
            "Converged at iteration 55\n",
            "Final Weights:  [ 0.0568161   0.74397831  0.02410301 -0.04643244 -0.00803921  0.0448559\n",
            " -0.09248136  0.06509176]\n",
            "Cost history (first 10 iterations):  [0.4889344763563982, 0.4687353222326857, 0.44175115434472473, 0.4104706805164599, 0.3772879406165196, 0.34432132177050584, 0.3132913933237044, 0.28545657941449676, 0.26160087232293544, 0.24206439152988096]\n",
            "RMSE on test set:  11.009199764471552\n",
            "R-Squared on test set:  0.5879639849068738\n"
          ]
        }
      ]
    },
    {
      "cell_type": "markdown",
      "source": [
        "1. RMSE(11.01): A lower RMSE indicates better performance. An RMSE of 11.01 suggests that, on average, the model’s predictions are off by about 11.01 units from the true value.\n",
        "\n",
        "2. R-Squared(0.588): A value of 0.59 means that about 59% of the variance in the target variable is being explained by the model."
      ],
      "metadata": {
        "id": "YC53aj1052Zf"
      }
    },
    {
      "cell_type": "markdown",
      "source": [
        "#3. Build a Primary Model"
      ],
      "metadata": {
        "id": "xHc8wYdW7yFt"
      }
    },
    {
      "cell_type": "markdown",
      "source": [
        "#KNN model"
      ],
      "metadata": {
        "id": "3MIl-CjE8HK1"
      }
    },
    {
      "cell_type": "code",
      "source": [
        "# Import necessary libraries\n",
        "import pandas as pd\n",
        "from sklearn.model_selection import train_test_split\n",
        "from sklearn.neighbors import KNeighborsRegressor\n",
        "from sklearn.preprocessing import StandardScaler\n",
        "from sklearn.metrics import mean_squared_error, r2_score\n",
        "\n",
        "df = pd.read_csv('/content/drive/MyDrive/AI_Assessment/Maternal Health Risk Data Set.csv')\n",
        "\n",
        "# Remove duplicate rows\n",
        "df.drop_duplicates(inplace=True)\n",
        "\n",
        "# Apply one-hot encoding to categorical columns (e.g., 'RiskLevel')\n",
        "df = pd.get_dummies(df, drop_first=True)\n",
        "\n",
        "# Preprocess the data\n",
        "X = df.drop('SystolicBP', axis=1)\n",
        "y = df['SystolicBP']\n",
        "\n",
        "# Split the data into training and test sets (70% train, 30% test)\n",
        "X_train, X_test, y_train, y_test = train_test_split(X, y, test_size=0.3, random_state=42)\n",
        "\n",
        "# Feature scaling (important for KNN)\n",
        "scaler = StandardScaler()\n",
        "X_train_scaled = scaler.fit_transform(X_train)\n",
        "X_test_scaled = scaler.transform(X_test)\n",
        "\n",
        "# Initialize and train the KNN regressor\n",
        "knn = KNeighborsRegressor(n_neighbors=5)  # You can tune the number of neighbors (k)\n",
        "knn.fit(X_train_scaled, y_train)\n",
        "\n",
        "# Make predictions\n",
        "y_pred = knn.predict(X_test_scaled)\n",
        "\n",
        "# Evaluate the model using RMSE and R-squared\n",
        "rmse = mean_squared_error(y_test, y_pred)  # RMSE\n",
        "r2 = r2_score(y_test, y_pred)  # R-squared\n",
        "\n",
        "# Output the evaluation metrics with 3 decimal places\n",
        "print(f\"RMSE: {rmse:.3f}\")\n",
        "print(f\"R-Squared: {r2:.3f}\")\n"
      ],
      "metadata": {
        "colab": {
          "base_uri": "https://localhost:8080/"
        },
        "id": "dpOObCPH8Iru",
        "outputId": "2ae9484e-b614-4acc-bfdb-c48a4f11fad4"
      },
      "execution_count": null,
      "outputs": [
        {
          "output_type": "stream",
          "name": "stdout",
          "text": [
            "RMSE: 124.521\n",
            "R-Squared: 0.581\n"
          ]
        }
      ]
    },
    {
      "cell_type": "markdown",
      "source": [
        "#Random Forest"
      ],
      "metadata": {
        "id": "W-8TgjbS9IaO"
      }
    },
    {
      "cell_type": "code",
      "source": [
        "# Import necessary libraries\n",
        "import pandas as pd\n",
        "from sklearn.model_selection import train_test_split\n",
        "from sklearn.ensemble import RandomForestRegressor\n",
        "from sklearn.preprocessing import StandardScaler\n",
        "from sklearn.metrics import mean_squared_error, r2_score\n",
        "\n",
        "# Load dataset\n",
        "df = pd.read_csv('/content/drive/MyDrive/AI_Assessment/Maternal Health Risk Data Set.csv')\n",
        "\n",
        "# Remove duplicate rows\n",
        "df.drop_duplicates(inplace=True)\n",
        "\n",
        "# Apply one-hot encoding to categorical columns (e.g., 'RiskLevel')\n",
        "df = pd.get_dummies(df, drop_first=True)\n",
        "\n",
        "# Preprocess the data\n",
        "X = df.drop('SystolicBP', axis=1)\n",
        "y = df['SystolicBP']\n",
        "\n",
        "# Split the data into training and test sets (70% train, 30% test)\n",
        "X_train, X_test, y_train, y_test = train_test_split(X, y, test_size=0.3, random_state=42)\n",
        "\n",
        "# Feature scaling (optional for Random Forest, but may improve performance)\n",
        "scaler = StandardScaler()\n",
        "X_train_scaled = scaler.fit_transform(X_train)\n",
        "X_test_scaled = scaler.transform(X_test)\n",
        "\n",
        "# Initialize and train the Random Forest Regressor\n",
        "rf = RandomForestRegressor(n_estimators=100, random_state=42)\n",
        "rf.fit(X_train_scaled, y_train)\n",
        "\n",
        "# Make predictions\n",
        "y_pred = rf.predict(X_test_scaled)\n",
        "\n",
        "# Evaluate the model using RMSE and R-squared\n",
        "rmse = mean_squared_error(y_test, y_pred)  # RMSE\n",
        "r2 = r2_score(y_test, y_pred)  # R-squared\n",
        "\n",
        "# Output the evaluation metrics with 3 decimal places\n",
        "print(f\"RMSE: {rmse:.3f}\")\n",
        "print(f\"R-Squared: {r2:.3f}\")\n"
      ],
      "metadata": {
        "colab": {
          "base_uri": "https://localhost:8080/"
        },
        "id": "z2k6LYg79KMU",
        "outputId": "12b0e675-a698-4119-9bdb-3f29386ccae3"
      },
      "execution_count": null,
      "outputs": [
        {
          "output_type": "stream",
          "name": "stdout",
          "text": [
            "RMSE: 87.172\n",
            "R-Squared: 0.707\n"
          ]
        }
      ]
    },
    {
      "cell_type": "markdown",
      "source": [
        "According to the metrics comparison, Random Forest performed slightly better than KNN in terms of all the metrics. Therefore, Random Forest Regressor is the better model for this case."
      ],
      "metadata": {
        "id": "ZRYSa9ZEA6wM"
      }
    },
    {
      "cell_type": "markdown",
      "source": [
        "#Hyper-parameter Optimization with Cross-Validation"
      ],
      "metadata": {
        "id": "KzmpeL-IBHk1"
      }
    },
    {
      "cell_type": "markdown",
      "source": [
        "#KNN with GridSearchCV"
      ],
      "metadata": {
        "id": "2zdhZmu8BIOD"
      }
    },
    {
      "cell_type": "code",
      "source": [
        "from sklearn.model_selection import GridSearchCV\n",
        "from sklearn.neighbors import KNeighborsRegressor\n",
        "\n",
        "# Define the model\n",
        "knn = KNeighborsRegressor()\n",
        "\n",
        "# Define the parameter grid\n",
        "param_grid_knn = {\n",
        "    'n_neighbors': [3, 5, 7, 9],\n",
        "    'weights': ['uniform', 'distance'],\n",
        "    'algorithm': ['auto', 'ball_tree', 'kd_tree'],\n",
        "    'leaf_size': [20, 30, 40],\n",
        "    'p': [1, 2]  # 1 = Manhattan distance, 2 = Euclidean distance\n",
        "}\n",
        "\n",
        "# Apply GridSearchCV\n",
        "grid_search_knn = GridSearchCV(estimator=knn, param_grid=param_grid_knn, cv=5, verbose=2, n_jobs=-1)\n",
        "grid_search_knn.fit(X_train_scaled, y_train)\n",
        "\n",
        "# Best parameters\n",
        "print(\"Best hyperparameters for KNN:\", grid_search_knn.best_params_)\n",
        "\n"
      ],
      "metadata": {
        "colab": {
          "base_uri": "https://localhost:8080/"
        },
        "id": "vC2i24kwBUtk",
        "outputId": "b9988dc0-7da4-462e-a3f7-d1e49ae79e00"
      },
      "execution_count": null,
      "outputs": [
        {
          "output_type": "stream",
          "name": "stdout",
          "text": [
            "Fitting 5 folds for each of 144 candidates, totalling 720 fits\n",
            "Best hyperparameters for KNN: {'algorithm': 'auto', 'leaf_size': 20, 'n_neighbors': 7, 'p': 1, 'weights': 'distance'}\n"
          ]
        }
      ]
    },
    {
      "cell_type": "markdown",
      "source": [
        "#Random Forest with GridSearchCV\n"
      ],
      "metadata": {
        "id": "nVUxsKk0CAiJ"
      }
    },
    {
      "cell_type": "code",
      "source": [
        "from sklearn.ensemble import RandomForestRegressor\n",
        "from sklearn.model_selection import GridSearchCV\n",
        "\n",
        "# Define the model\n",
        "rf = RandomForestRegressor(random_state=42)\n",
        "\n",
        "# Define the parameter grid\n",
        "param_grid_rf = {\n",
        "    'n_estimators': [50, 100, 200],  # Number of trees in the forest\n",
        "    'max_depth': [None, 10, 20, 30],  # Maximum depth of the trees\n",
        "    'min_samples_split': [2, 5, 10],  # Minimum samples required to split an internal node\n",
        "    'min_samples_leaf': [1, 2, 4],  # Minimum samples required at each leaf node\n",
        "    'bootstrap': [True, False]  # Whether bootstrap samples are used when building trees\n",
        "}\n",
        "\n",
        "# Apply GridSearchCV\n",
        "grid_search_rf = GridSearchCV(estimator=rf, param_grid=param_grid_rf, cv=5, verbose=2, n_jobs=-1)\n",
        "grid_search_rf.fit(X_train_scaled, y_train)\n",
        "\n",
        "# Best parameters\n",
        "print(\"Best hyperparameters for Random Forest:\", grid_search_rf.best_params_)\n"
      ],
      "metadata": {
        "colab": {
          "base_uri": "https://localhost:8080/"
        },
        "id": "o6FldWwOCCxU",
        "outputId": "a79a5255-12f2-43ee-9604-e3910ebf2766"
      },
      "execution_count": null,
      "outputs": [
        {
          "output_type": "stream",
          "name": "stdout",
          "text": [
            "Fitting 5 folds for each of 216 candidates, totalling 1080 fits\n",
            "Best hyperparameters for Random Forest: {'bootstrap': True, 'max_depth': 10, 'min_samples_leaf': 1, 'min_samples_split': 2, 'n_estimators': 50}\n"
          ]
        }
      ]
    },
    {
      "cell_type": "markdown",
      "source": [
        "#Feature Selection"
      ],
      "metadata": {
        "id": "c0Rphd1DZXj1"
      }
    },
    {
      "cell_type": "markdown",
      "source": [
        "#KNN Model Feature Selection with Mutual Information"
      ],
      "metadata": {
        "id": "w-pTJ-naZZU_"
      }
    },
    {
      "cell_type": "code",
      "source": [
        "from sklearn.feature_selection import SelectKBest, mutual_info_regression\n",
        "\n",
        "# Feature Selection using Mutual Information\n",
        "selector = SelectKBest(score_func=mutual_info_regression, k=3)  # Select top 5 features\n",
        "X_train_selected = selector.fit_transform(X_train_scaled, y_train)\n",
        "X_test_selected = selector.transform(X_test_scaled)\n",
        "\n",
        "# Get selected feature names\n",
        "selected_features = X.columns[selector.get_support()]\n",
        "print(\"Selected Features:\", selected_features)\n"
      ],
      "metadata": {
        "colab": {
          "base_uri": "https://localhost:8080/"
        },
        "id": "XZxjiNhqZbD_",
        "outputId": "ffb0ab67-d107-4ec3-8e8f-3069f545540d"
      },
      "execution_count": null,
      "outputs": [
        {
          "output_type": "stream",
          "name": "stdout",
          "text": [
            "Selected Features: Index(['Age', 'DiastolicBP', 'HeartRate'], dtype='object')\n"
          ]
        }
      ]
    },
    {
      "cell_type": "markdown",
      "source": [
        "The goal of this process is to select most important features that provides the best combination of RMSE and R-Squared value in predicting the target variable.\n",
        "\n",
        "1. Methodology(Mutual Information(MI)): Using the fitted selector through SelectKBest, we transformed both the training (X_train_selected) and test (X_test_selected) sets, keeping only the most informative features.\n",
        "\n",
        "2. Why these features: The selected features (stored in selected_features) are the ones with the highest MI scores, indicating that they hold the most predictive power for the target variable."
      ],
      "metadata": {
        "id": "7Mj2mA3TcUwx"
      }
    },
    {
      "cell_type": "markdown",
      "source": [
        "#Random Forest Model Feature Selection with Wrapper Method"
      ],
      "metadata": {
        "id": "yys1XKzOeY1G"
      }
    },
    {
      "cell_type": "code",
      "source": [
        "from sklearn.feature_selection import RFE\n",
        "import pandas as pd\n",
        "\n",
        "# Initialize RFE with Random Forest as the estimator\n",
        "rfe = RFE(estimator=rf, n_features_to_select=5)  # Select the top 2 features\n",
        "\n",
        "# Fit the RFE model on the training data\n",
        "rfe.fit(X_train_scaled, y_train)\n",
        "\n",
        "# Get the selected feature indices\n",
        "selected_indices = rfe.get_support()\n",
        "\n",
        "# Print the selected feature names\n",
        "print(f\"Selected Features: {X.columns[selected_indices]}\")\n"
      ],
      "metadata": {
        "colab": {
          "base_uri": "https://localhost:8080/"
        },
        "id": "RVhJ3Y67ehOd",
        "outputId": "9040786d-09a1-412b-cdeb-07ccbd6ca747"
      },
      "execution_count": null,
      "outputs": [
        {
          "output_type": "stream",
          "name": "stdout",
          "text": [
            "Selected Features: Index(['Age', 'DiastolicBP', 'BS', 'HeartRate', 'RiskLevel_mid risk'], dtype='object')\n"
          ]
        }
      ]
    },
    {
      "cell_type": "markdown",
      "source": [
        "The goal of this process is to select most important features that provides the best combination of RMSE and R-Squared value in predicting the target variable.\n",
        "\n",
        "1. Methodology(Recursive Feature Elimination (RFE)): We set n_features_to_select=5 to keep the top 5 most important features. Then, RFE iteratively removes the least important features based on the model’s importance ranking.\n",
        "\n",
        "2. Why these features: When, n=5, it gave the best combination of RMSE and R-Squared score.\n"
      ],
      "metadata": {
        "id": "FR3FWM43hReF"
      }
    },
    {
      "cell_type": "markdown",
      "source": [
        "#KNN Final Model"
      ],
      "metadata": {
        "id": "99xz05FukOX2"
      }
    },
    {
      "cell_type": "code",
      "source": [
        "# Import necessary libraries\n",
        "import pandas as pd\n",
        "from sklearn.model_selection import train_test_split\n",
        "from sklearn.neighbors import KNeighborsRegressor\n",
        "from sklearn.preprocessing import StandardScaler\n",
        "from sklearn.metrics import mean_squared_error, r2_score\n",
        "\n",
        "# Load dataset\n",
        "df = pd.read_csv('/content/drive/MyDrive/AI_Assessment/Maternal Health Risk Data Set.csv')\n",
        "\n",
        "# Remove duplicate rows\n",
        "df.drop_duplicates(inplace=True)\n",
        "\n",
        "# Apply one-hot encoding to categorical columns (e.g., 'RiskLevel')\n",
        "df = pd.get_dummies(df, drop_first=True)\n",
        "\n",
        "# Select the best features\n",
        "selected_features = ['Age', 'DiastolicBP', 'HeartRate']\n",
        "X = df[selected_features]\n",
        "y = df['SystolicBP']\n",
        "\n",
        "# Split the data into training and test sets (70% train, 30% test)\n",
        "X_train, X_test, y_train, y_test = train_test_split(X, y, test_size=0.3, random_state=42)\n",
        "\n",
        "# Feature scaling (important for KNN)\n",
        "scaler = StandardScaler()\n",
        "X_train_scaled = scaler.fit_transform(X_train)\n",
        "X_test_scaled = scaler.transform(X_test)\n",
        "\n",
        "# Initialize and train the KNN regressor with optimized hyperparameters\n",
        "knn = KNeighborsRegressor(\n",
        "    algorithm='auto',\n",
        "    leaf_size=20,\n",
        "    n_neighbors=7,\n",
        "    p=1,  # Manhattan distance\n",
        "    weights='distance'\n",
        ")\n",
        "knn.fit(X_train_scaled, y_train)\n",
        "\n",
        "# Make predictions\n",
        "y_pred = knn.predict(X_test_scaled)\n",
        "\n",
        "# Evaluate the model using RMSE and R-squared\n",
        "rmse = mean_squared_error(y_test, y_pred)  # RMSE\n",
        "r2 = r2_score(y_test, y_pred)  # R-squared\n",
        "\n",
        "# Output the evaluation metrics with 3 decimal places\n",
        "print(f\"RMSE: {rmse:.3f}\")\n",
        "print(f\"R-Squared: {r2:.3f}\")\n"
      ],
      "metadata": {
        "colab": {
          "base_uri": "https://localhost:8080/"
        },
        "id": "3aCBQGE3kP9e",
        "outputId": "3ee7b7c0-e7e1-4db4-cc31-5e5d879d751c"
      },
      "execution_count": null,
      "outputs": [
        {
          "output_type": "stream",
          "name": "stdout",
          "text": [
            "RMSE: 58.162\n",
            "R-Squared: 0.804\n"
          ]
        }
      ]
    },
    {
      "cell_type": "markdown",
      "source": [
        "The model performs well with an R² score of 0.804, indicating a strong fit.\n",
        "\n",
        "RMSE of 58.162 suggests a reasonable prediction error for SystolicBP values."
      ],
      "metadata": {
        "id": "r6G2JA4HlfWG"
      }
    },
    {
      "cell_type": "markdown",
      "source": [
        "#Random Forest Final Model"
      ],
      "metadata": {
        "id": "pBPwZH6Jlove"
      }
    },
    {
      "cell_type": "code",
      "source": [
        "# Import necessary libraries\n",
        "import pandas as pd\n",
        "from sklearn.model_selection import train_test_split\n",
        "from sklearn.ensemble import RandomForestRegressor\n",
        "from sklearn.preprocessing import StandardScaler\n",
        "from sklearn.metrics import mean_squared_error, r2_score\n",
        "\n",
        "# Load dataset\n",
        "df = pd.read_csv('/content/drive/MyDrive/AI_Assessment/Maternal Health Risk Data Set.csv')\n",
        "\n",
        "# Remove duplicate rows\n",
        "df.drop_duplicates(inplace=True)\n",
        "\n",
        "# Apply one-hot encoding to categorical columns (e.g., 'RiskLevel')\n",
        "df = pd.get_dummies(df, drop_first=True)\n",
        "\n",
        "# Preprocess the data (Selected Features)\n",
        "X = df[['Age', 'DiastolicBP', 'BS', 'HeartRate', 'RiskLevel_mid risk']]  # selected features\n",
        "y = df['SystolicBP']\n",
        "\n",
        "# Split the data into training and test sets (70% train, 30% test)\n",
        "X_train, X_test, y_train, y_test = train_test_split(X, y, test_size=0.3, random_state=42)\n",
        "\n",
        "# Feature scaling (optional for Random Forest, but may improve performance)\n",
        "scaler = StandardScaler()\n",
        "X_train_scaled = scaler.fit_transform(X_train)\n",
        "X_test_scaled = scaler.transform(X_test)\n",
        "\n",
        "# Initialize and train the Random Forest Regressor with specified hyperparameters\n",
        "rf = RandomForestRegressor(\n",
        "    bootstrap=True,\n",
        "    max_depth=10,\n",
        "    min_samples_leaf=1,\n",
        "    min_samples_split=2,\n",
        "    n_estimators=50,\n",
        "    random_state=42\n",
        ")\n",
        "\n",
        "rf.fit(X_train_scaled, y_train)\n",
        "\n",
        "# Make predictions\n",
        "y_pred = rf.predict(X_test_scaled)\n",
        "\n",
        "# Evaluate the model using RMSE and R-squared\n",
        "rmse = mean_squared_error(y_test, y_pred)  # RMSE\n",
        "r2 = r2_score(y_test, y_pred)  # R-squared\n",
        "\n",
        "# Output the evaluation metrics with 3 decimal places\n",
        "print(f\"RMSE: {rmse:.3f}\")\n",
        "print(f\"R-Squared: {r2:.3f}\")\n"
      ],
      "metadata": {
        "colab": {
          "base_uri": "https://localhost:8080/"
        },
        "id": "B0XnR9VNlnjW",
        "outputId": "c66fc1d6-eb47-4504-bd89-37c657b28ebf"
      },
      "execution_count": null,
      "outputs": [
        {
          "output_type": "stream",
          "name": "stdout",
          "text": [
            "RMSE: 86.902\n",
            "R-Squared: 0.708\n"
          ]
        }
      ]
    },
    {
      "cell_type": "markdown",
      "source": [
        "RMSE of 86.902 indicates a relatively moderate error in predicting the SystolicBP\n",
        "\n",
        "The Random Forest Regressor has a fairly strong performance with an R-squared of 0.708, which indicates that it's doing a decent job in predicting systolic blood pressure based on the selected features."
      ],
      "metadata": {
        "id": "5dotRlYpmSL3"
      }
    },
    {
      "cell_type": "markdown",
      "source": [
        "#Conclusion"
      ],
      "metadata": {
        "id": "9N9lEGY4m6bl"
      }
    },
    {
      "cell_type": "markdown",
      "source": [
        "#Impacts of Feature Selection on KNN\n"
      ],
      "metadata": {
        "id": "VUslk7u2tY_O"
      }
    },
    {
      "cell_type": "markdown",
      "source": [
        "Feature selection had a significant positive impact on the performance of the KNN model. By focusing on the most relevant features, the model was able to improve both in terms of prediction accuracy (RMSE) and explanatory power (R-squared). This demonstrates the importance of choosing the right features in machine learning models, as it can lead to better results and more efficient models."
      ],
      "metadata": {
        "id": "94Ea9ur3tiGJ"
      }
    },
    {
      "cell_type": "markdown",
      "source": [
        "#Impacts of  Feature Selection on Random Forest"
      ],
      "metadata": {
        "id": "4N6W0FHSuEwD"
      }
    },
    {
      "cell_type": "markdown",
      "source": [
        "Feature selection in the Random Forest model had a marginal impact on the performance. Unlike the KNN model, where the effect was substantial, the Random Forest model showed a small improvement in both RMSE and R-squared. This could be because Random Forest models are relatively robust to irrelevant features due to their ensemble nature, and therefore, feature selection does not have as large an impact on performance. However, even small improvements can be important, especially in large datasets or when computational efficiency is a priority."
      ],
      "metadata": {
        "id": "OCHBXZgtuILg"
      }
    },
    {
      "cell_type": "markdown",
      "source": [
        "#Comparison of Final KNN and Random Forest Regressor Models"
      ],
      "metadata": {
        "id": "OWLvrb2mm8du"
      }
    },
    {
      "cell_type": "markdown",
      "source": [
        "The KNN model outperforms the Random Forest model based on the evaluation metrics. The KNN model achieved an RMSE of 58.162 and an R-squared value of 0.804, indicating better accuracy and stronger predictive power. In contrast, the Random Forest model produced an RMSE of 86.902 and an R-squared of 0.708, showing a slightly lower performance. This suggests that for this specific dataset, the KNN model provides a more precise fit and is better at capturing the underlying patterns in the data. However, further model tuning and exploration of other machine learning algorithms could yield even better results.\n",
        "\n",
        "So, according to the results, KNN Model with hyperparameters: {'algorithm': 'auto', 'leaf_size': 20, 'n_neighbors': 7, 'p': 1, 'weights': 'distance'} and features {'Age','DiastolicBP', 'HeartRate'} performed better in Regression Task."
      ],
      "metadata": {
        "id": "8JPtREEynAZV"
      }
    },
    {
      "cell_type": "markdown",
      "source": [
        "#Insights and Future Directions of KNN model"
      ],
      "metadata": {
        "id": "OHP62ba3uhkn"
      }
    },
    {
      "cell_type": "markdown",
      "source": [
        "The KNN model showed significant improvement after feature selection, with the RMSE decreasing from 124.521 to 58.162 and R-squared increasing from 0.581 to 0.804. This highlights the importance of selecting relevant features to reduce noise and improve predictive accuracy. Future directions include tuning hyperparameters (like the number of neighbors and distance metrics), experimenting with feature engineering, and using more efficient algorithms for larger datasets. Additionally, comparing KNN with other models and applying cross-validation can help enhance performance and robustness.\n",
        "\n",
        "\n"
      ],
      "metadata": {
        "id": "rPSUFnLTuhwg"
      }
    },
    {
      "cell_type": "markdown",
      "source": [
        "#Insights and Future Directions of Random Tree model"
      ],
      "metadata": {
        "id": "qkffn__3uh7S"
      }
    },
    {
      "cell_type": "markdown",
      "source": [
        "The Random Forest model demonstrated a slight improvement after feature selection, with RMSE reducing from 87.172 to 86.902 and R-squared increasing from 0.707 to 0.708. While the improvement is modest, it suggests that the selected features may have contributed to a more stable model. Future directions for enhancing the Random Forest model include further hyperparameter tuning (e.g., adjusting tree depth, the number of trees, or the minimum samples for splits), exploring different feature engineering techniques, and incorporating advanced ensemble methods to boost accuracy and generalization on unseen data."
      ],
      "metadata": {
        "id": "Azrru7TPuiE8"
      }
    }
  ]
}